{
 "cells": [
  {
   "cell_type": "markdown",
   "id": "fd462f94",
   "metadata": {
    "papermill": {
     "duration": 0.009753,
     "end_time": "2025-02-14T07:24:41.724437",
     "exception": false,
     "start_time": "2025-02-14T07:24:41.714684",
     "status": "completed"
    },
    "tags": []
   },
   "source": [
    "# CIBMTR | EfficientNetV2"
   ]
  },
  {
   "attachments": {},
   "cell_type": "markdown",
   "id": "486a895f",
   "metadata": {
    "papermill": {
     "duration": 0.008738,
     "end_time": "2025-02-14T07:24:41.742302",
     "exception": false,
     "start_time": "2025-02-14T07:24:41.733564",
     "status": "completed"
    },
    "tags": []
   },
   "source": [
    "This notebook employs the EfficientNetV2 backbone.\n",
    "\n",
    "I created this notebook based on [ISIC2024: KerasCV Starter](http://www.kaggle.com/code/awsaf49/isic2024-kerascv-starter).\n",
    "\n",
    "The data processing referred to [[Public] Classifier+CAT+XGB LB 0.688](http://www.kaggle.com/code/kendontcare11/public-classifier-cat-xgb-lb-0-688).\n",
    "\n",
    "Comments and Suggestions are always welcome.\n",
    "\n"
   ]
  },
  {
   "cell_type": "markdown",
   "id": "adb95242",
   "metadata": {
    "papermill": {
     "duration": 0.008601,
     "end_time": "2025-02-14T07:24:41.759563",
     "exception": false,
     "start_time": "2025-02-14T07:24:41.750962",
     "status": "completed"
    },
    "tags": []
   },
   "source": [
    "# Import Libraries"
   ]
  },
  {
   "cell_type": "code",
   "execution_count": 1,
   "id": "838d14f5",
   "metadata": {
    "execution": {
     "iopub.execute_input": "2025-02-14T07:24:41.778831Z",
     "iopub.status.busy": "2025-02-14T07:24:41.778539Z",
     "iopub.status.idle": "2025-02-14T07:25:02.838274Z",
     "shell.execute_reply": "2025-02-14T07:25:02.837293Z"
    },
    "papermill": {
     "duration": 21.071636,
     "end_time": "2025-02-14T07:25:02.840339",
     "exception": false,
     "start_time": "2025-02-14T07:24:41.768703",
     "status": "completed"
    },
    "tags": []
   },
   "outputs": [],
   "source": [
    "import numpy as np\n",
    "import pandas as pd\n",
    "import os\n",
    "os.environ[\"KERAS_BACKEND\"] = \"tensorflow\"\n",
    "import warnings\n",
    "warnings.filterwarnings('ignore')\n",
    "from sklearn.model_selection import StratifiedGroupKFold\n",
    "import keras\n",
    "import tensorflow as tf\n",
    "import keras_cv\n",
    "from keras import ops\n",
    "import cv2\n",
    "from glob import glob\n",
    "from tqdm.notebook import tqdm\n",
    "import joblib\n",
    "import matplotlib.pyplot as plt"
   ]
  },
  {
   "cell_type": "markdown",
   "id": "3d0a3210",
   "metadata": {
    "papermill": {
     "duration": 0.009778,
     "end_time": "2025-02-14T07:25:02.860742",
     "exception": false,
     "start_time": "2025-02-14T07:25:02.850964",
     "status": "completed"
    },
    "tags": []
   },
   "source": [
    "# Library Versions"
   ]
  },
  {
   "cell_type": "code",
   "execution_count": 2,
   "id": "5bf619f5",
   "metadata": {
    "execution": {
     "iopub.execute_input": "2025-02-14T07:25:02.881253Z",
     "iopub.status.busy": "2025-02-14T07:25:02.880632Z",
     "iopub.status.idle": "2025-02-14T07:25:02.886872Z",
     "shell.execute_reply": "2025-02-14T07:25:02.886062Z"
    },
    "papermill": {
     "duration": 0.018093,
     "end_time": "2025-02-14T07:25:02.888454",
     "exception": false,
     "start_time": "2025-02-14T07:25:02.870361",
     "status": "completed"
    },
    "tags": []
   },
   "outputs": [
    {
     "name": "stdout",
     "output_type": "stream",
     "text": [
      "TensorFlow: 2.17.1\n",
      "Keras: 3.5.0\n",
      "KerasCV: 0.9.0\n"
     ]
    }
   ],
   "source": [
    "print(\"TensorFlow:\", tf.__version__)\n",
    "print(\"Keras:\", keras.__version__)\n",
    "print(\"KerasCV:\", keras_cv.__version__)"
   ]
  },
  {
   "cell_type": "markdown",
   "id": "6c9b084d",
   "metadata": {
    "papermill": {
     "duration": 0.009377,
     "end_time": "2025-02-14T07:25:02.907595",
     "exception": false,
     "start_time": "2025-02-14T07:25:02.898218",
     "status": "completed"
    },
    "tags": []
   },
   "source": [
    "# Configuration"
   ]
  },
  {
   "cell_type": "code",
   "execution_count": 3,
   "id": "036a9cdb",
   "metadata": {
    "execution": {
     "iopub.execute_input": "2025-02-14T07:25:02.928297Z",
     "iopub.status.busy": "2025-02-14T07:25:02.927947Z",
     "iopub.status.idle": "2025-02-14T07:25:02.932140Z",
     "shell.execute_reply": "2025-02-14T07:25:02.931220Z"
    },
    "papermill": {
     "duration": 0.016052,
     "end_time": "2025-02-14T07:25:02.933453",
     "exception": false,
     "start_time": "2025-02-14T07:25:02.917401",
     "status": "completed"
    },
    "tags": []
   },
   "outputs": [],
   "source": [
    "class Config:\n",
    "    verbose = 1\n",
    "    seed = 42\n",
    "    batch_size = 128\n",
    "    epochs = 30\n",
    "    lr_mode = \"cos\"\n",
    "    preset = \"efficientnetv2_b2\"\n",
    "    class_names = ['efs']\n",
    "    num_classes = 1"
   ]
  },
  {
   "cell_type": "code",
   "execution_count": 4,
   "id": "6f5bd221",
   "metadata": {
    "execution": {
     "iopub.execute_input": "2025-02-14T07:25:02.954722Z",
     "iopub.status.busy": "2025-02-14T07:25:02.954395Z",
     "iopub.status.idle": "2025-02-14T07:25:02.958517Z",
     "shell.execute_reply": "2025-02-14T07:25:02.957629Z"
    },
    "papermill": {
     "duration": 0.016559,
     "end_time": "2025-02-14T07:25:02.959990",
     "exception": false,
     "start_time": "2025-02-14T07:25:02.943431",
     "status": "completed"
    },
    "tags": []
   },
   "outputs": [],
   "source": [
    "#Sets value for random seed to produce similar result in each run\n",
    "keras.utils.set_random_seed(Config.seed)"
   ]
  },
  {
   "cell_type": "markdown",
   "id": "9171e243",
   "metadata": {
    "papermill": {
     "duration": 0.0097,
     "end_time": "2025-02-14T07:25:02.979642",
     "exception": false,
     "start_time": "2025-02-14T07:25:02.969942",
     "status": "completed"
    },
    "tags": []
   },
   "source": [
    "# Dataset Path"
   ]
  },
  {
   "cell_type": "code",
   "execution_count": 5,
   "id": "4acdd942",
   "metadata": {
    "execution": {
     "iopub.execute_input": "2025-02-14T07:25:03.000259Z",
     "iopub.status.busy": "2025-02-14T07:25:02.999978Z",
     "iopub.status.idle": "2025-02-14T07:25:03.003399Z",
     "shell.execute_reply": "2025-02-14T07:25:03.002695Z"
    },
    "papermill": {
     "duration": 0.015309,
     "end_time": "2025-02-14T07:25:03.004844",
     "exception": false,
     "start_time": "2025-02-14T07:25:02.989535",
     "status": "completed"
    },
    "tags": []
   },
   "outputs": [],
   "source": [
    "PATH = '/kaggle/input/equity-post-HCT-survival-predictions'"
   ]
  },
  {
   "cell_type": "code",
   "execution_count": 6,
   "id": "1e94cea1",
   "metadata": {
    "execution": {
     "iopub.execute_input": "2025-02-14T07:25:03.024631Z",
     "iopub.status.busy": "2025-02-14T07:25:03.024376Z",
     "iopub.status.idle": "2025-02-14T07:25:03.591976Z",
     "shell.execute_reply": "2025-02-14T07:25:03.591198Z"
    },
    "papermill": {
     "duration": 0.578827,
     "end_time": "2025-02-14T07:25:03.593391",
     "exception": false,
     "start_time": "2025-02-14T07:25:03.014564",
     "status": "completed"
    },
    "tags": []
   },
   "outputs": [
    {
     "data": {
      "text/html": [
       "<div>\n",
       "<style scoped>\n",
       "    .dataframe tbody tr th:only-of-type {\n",
       "        vertical-align: middle;\n",
       "    }\n",
       "\n",
       "    .dataframe tbody tr th {\n",
       "        vertical-align: top;\n",
       "    }\n",
       "\n",
       "    .dataframe thead th {\n",
       "        text-align: right;\n",
       "    }\n",
       "</style>\n",
       "<table border=\"1\" class=\"dataframe\">\n",
       "  <thead>\n",
       "    <tr style=\"text-align: right;\">\n",
       "      <th></th>\n",
       "      <th>ID</th>\n",
       "      <th>dri_score</th>\n",
       "      <th>psych_disturb</th>\n",
       "      <th>cyto_score</th>\n",
       "      <th>diabetes</th>\n",
       "      <th>hla_match_c_high</th>\n",
       "      <th>hla_high_res_8</th>\n",
       "      <th>tbi_status</th>\n",
       "      <th>arrhythmia</th>\n",
       "      <th>hla_low_res_6</th>\n",
       "      <th>...</th>\n",
       "      <th>tce_div_match</th>\n",
       "      <th>donor_related</th>\n",
       "      <th>melphalan_dose</th>\n",
       "      <th>hla_low_res_8</th>\n",
       "      <th>cardiac</th>\n",
       "      <th>hla_match_drb1_high</th>\n",
       "      <th>pulm_moderate</th>\n",
       "      <th>hla_low_res_10</th>\n",
       "      <th>efs</th>\n",
       "      <th>efs_time</th>\n",
       "    </tr>\n",
       "  </thead>\n",
       "  <tbody>\n",
       "    <tr>\n",
       "      <th>0</th>\n",
       "      <td>0</td>\n",
       "      <td>N/A - non-malignant indication</td>\n",
       "      <td>No</td>\n",
       "      <td>NaN</td>\n",
       "      <td>No</td>\n",
       "      <td>NaN</td>\n",
       "      <td>NaN</td>\n",
       "      <td>No TBI</td>\n",
       "      <td>No</td>\n",
       "      <td>6.0</td>\n",
       "      <td>...</td>\n",
       "      <td>NaN</td>\n",
       "      <td>Unrelated</td>\n",
       "      <td>N/A, Mel not given</td>\n",
       "      <td>8.0</td>\n",
       "      <td>No</td>\n",
       "      <td>2.0</td>\n",
       "      <td>No</td>\n",
       "      <td>10.0</td>\n",
       "      <td>0.0</td>\n",
       "      <td>42.356</td>\n",
       "    </tr>\n",
       "    <tr>\n",
       "      <th>1</th>\n",
       "      <td>1</td>\n",
       "      <td>Intermediate</td>\n",
       "      <td>No</td>\n",
       "      <td>Intermediate</td>\n",
       "      <td>No</td>\n",
       "      <td>2.0</td>\n",
       "      <td>8.0</td>\n",
       "      <td>TBI +- Other, &gt;cGy</td>\n",
       "      <td>No</td>\n",
       "      <td>6.0</td>\n",
       "      <td>...</td>\n",
       "      <td>Permissive mismatched</td>\n",
       "      <td>Related</td>\n",
       "      <td>N/A, Mel not given</td>\n",
       "      <td>8.0</td>\n",
       "      <td>No</td>\n",
       "      <td>2.0</td>\n",
       "      <td>Yes</td>\n",
       "      <td>10.0</td>\n",
       "      <td>1.0</td>\n",
       "      <td>4.672</td>\n",
       "    </tr>\n",
       "    <tr>\n",
       "      <th>2</th>\n",
       "      <td>2</td>\n",
       "      <td>N/A - non-malignant indication</td>\n",
       "      <td>No</td>\n",
       "      <td>Intermediate</td>\n",
       "      <td>No</td>\n",
       "      <td>2.0</td>\n",
       "      <td>8.0</td>\n",
       "      <td>No TBI</td>\n",
       "      <td>No</td>\n",
       "      <td>6.0</td>\n",
       "      <td>...</td>\n",
       "      <td>Permissive mismatched</td>\n",
       "      <td>Related</td>\n",
       "      <td>N/A, Mel not given</td>\n",
       "      <td>8.0</td>\n",
       "      <td>No</td>\n",
       "      <td>2.0</td>\n",
       "      <td>No</td>\n",
       "      <td>10.0</td>\n",
       "      <td>0.0</td>\n",
       "      <td>19.793</td>\n",
       "    </tr>\n",
       "  </tbody>\n",
       "</table>\n",
       "<p>3 rows × 60 columns</p>\n",
       "</div>"
      ],
      "text/plain": [
       "   ID                       dri_score psych_disturb    cyto_score diabetes  \\\n",
       "0   0  N/A - non-malignant indication            No           NaN       No   \n",
       "1   1                    Intermediate            No  Intermediate       No   \n",
       "2   2  N/A - non-malignant indication            No  Intermediate       No   \n",
       "\n",
       "   hla_match_c_high  hla_high_res_8          tbi_status arrhythmia  \\\n",
       "0               NaN             NaN              No TBI         No   \n",
       "1               2.0             8.0  TBI +- Other, >cGy         No   \n",
       "2               2.0             8.0              No TBI         No   \n",
       "\n",
       "   hla_low_res_6  ...          tce_div_match donor_related  \\\n",
       "0            6.0  ...                    NaN     Unrelated   \n",
       "1            6.0  ...  Permissive mismatched       Related   \n",
       "2            6.0  ...  Permissive mismatched       Related   \n",
       "\n",
       "       melphalan_dose hla_low_res_8 cardiac  hla_match_drb1_high  \\\n",
       "0  N/A, Mel not given           8.0      No                  2.0   \n",
       "1  N/A, Mel not given           8.0      No                  2.0   \n",
       "2  N/A, Mel not given           8.0      No                  2.0   \n",
       "\n",
       "  pulm_moderate  hla_low_res_10  efs efs_time  \n",
       "0            No            10.0  0.0   42.356  \n",
       "1           Yes            10.0  1.0    4.672  \n",
       "2            No            10.0  0.0   19.793  \n",
       "\n",
       "[3 rows x 60 columns]"
      ]
     },
     "metadata": {},
     "output_type": "display_data"
    },
    {
     "data": {
      "text/html": [
       "<div>\n",
       "<style scoped>\n",
       "    .dataframe tbody tr th:only-of-type {\n",
       "        vertical-align: middle;\n",
       "    }\n",
       "\n",
       "    .dataframe tbody tr th {\n",
       "        vertical-align: top;\n",
       "    }\n",
       "\n",
       "    .dataframe thead th {\n",
       "        text-align: right;\n",
       "    }\n",
       "</style>\n",
       "<table border=\"1\" class=\"dataframe\">\n",
       "  <thead>\n",
       "    <tr style=\"text-align: right;\">\n",
       "      <th></th>\n",
       "      <th>ID</th>\n",
       "      <th>dri_score</th>\n",
       "      <th>psych_disturb</th>\n",
       "      <th>cyto_score</th>\n",
       "      <th>diabetes</th>\n",
       "      <th>hla_match_c_high</th>\n",
       "      <th>hla_high_res_8</th>\n",
       "      <th>tbi_status</th>\n",
       "      <th>arrhythmia</th>\n",
       "      <th>hla_low_res_6</th>\n",
       "      <th>...</th>\n",
       "      <th>karnofsky_score</th>\n",
       "      <th>hepatic_mild</th>\n",
       "      <th>tce_div_match</th>\n",
       "      <th>donor_related</th>\n",
       "      <th>melphalan_dose</th>\n",
       "      <th>hla_low_res_8</th>\n",
       "      <th>cardiac</th>\n",
       "      <th>hla_match_drb1_high</th>\n",
       "      <th>pulm_moderate</th>\n",
       "      <th>hla_low_res_10</th>\n",
       "    </tr>\n",
       "  </thead>\n",
       "  <tbody>\n",
       "    <tr>\n",
       "      <th>0</th>\n",
       "      <td>28800</td>\n",
       "      <td>N/A - non-malignant indication</td>\n",
       "      <td>No</td>\n",
       "      <td>NaN</td>\n",
       "      <td>No</td>\n",
       "      <td>NaN</td>\n",
       "      <td>NaN</td>\n",
       "      <td>No TBI</td>\n",
       "      <td>No</td>\n",
       "      <td>6.0</td>\n",
       "      <td>...</td>\n",
       "      <td>90.0</td>\n",
       "      <td>No</td>\n",
       "      <td>NaN</td>\n",
       "      <td>Unrelated</td>\n",
       "      <td>N/A, Mel not given</td>\n",
       "      <td>8.0</td>\n",
       "      <td>No</td>\n",
       "      <td>2.0</td>\n",
       "      <td>No</td>\n",
       "      <td>10.0</td>\n",
       "    </tr>\n",
       "    <tr>\n",
       "      <th>1</th>\n",
       "      <td>28801</td>\n",
       "      <td>Intermediate</td>\n",
       "      <td>No</td>\n",
       "      <td>Intermediate</td>\n",
       "      <td>No</td>\n",
       "      <td>2.0</td>\n",
       "      <td>8.0</td>\n",
       "      <td>TBI +- Other, &gt;cGy</td>\n",
       "      <td>No</td>\n",
       "      <td>6.0</td>\n",
       "      <td>...</td>\n",
       "      <td>90.0</td>\n",
       "      <td>No</td>\n",
       "      <td>Permissive mismatched</td>\n",
       "      <td>Related</td>\n",
       "      <td>N/A, Mel not given</td>\n",
       "      <td>8.0</td>\n",
       "      <td>No</td>\n",
       "      <td>2.0</td>\n",
       "      <td>Yes</td>\n",
       "      <td>10.0</td>\n",
       "    </tr>\n",
       "    <tr>\n",
       "      <th>2</th>\n",
       "      <td>28802</td>\n",
       "      <td>N/A - non-malignant indication</td>\n",
       "      <td>No</td>\n",
       "      <td>Intermediate</td>\n",
       "      <td>No</td>\n",
       "      <td>2.0</td>\n",
       "      <td>8.0</td>\n",
       "      <td>No TBI</td>\n",
       "      <td>No</td>\n",
       "      <td>6.0</td>\n",
       "      <td>...</td>\n",
       "      <td>90.0</td>\n",
       "      <td>No</td>\n",
       "      <td>Permissive mismatched</td>\n",
       "      <td>Related</td>\n",
       "      <td>N/A, Mel not given</td>\n",
       "      <td>8.0</td>\n",
       "      <td>No</td>\n",
       "      <td>2.0</td>\n",
       "      <td>No</td>\n",
       "      <td>10.0</td>\n",
       "    </tr>\n",
       "  </tbody>\n",
       "</table>\n",
       "<p>3 rows × 58 columns</p>\n",
       "</div>"
      ],
      "text/plain": [
       "      ID                       dri_score psych_disturb    cyto_score diabetes  \\\n",
       "0  28800  N/A - non-malignant indication            No           NaN       No   \n",
       "1  28801                    Intermediate            No  Intermediate       No   \n",
       "2  28802  N/A - non-malignant indication            No  Intermediate       No   \n",
       "\n",
       "   hla_match_c_high  hla_high_res_8          tbi_status arrhythmia  \\\n",
       "0               NaN             NaN              No TBI         No   \n",
       "1               2.0             8.0  TBI +- Other, >cGy         No   \n",
       "2               2.0             8.0              No TBI         No   \n",
       "\n",
       "   hla_low_res_6  ... karnofsky_score hepatic_mild          tce_div_match  \\\n",
       "0            6.0  ...            90.0           No                    NaN   \n",
       "1            6.0  ...            90.0           No  Permissive mismatched   \n",
       "2            6.0  ...            90.0           No  Permissive mismatched   \n",
       "\n",
       "  donor_related      melphalan_dose  hla_low_res_8 cardiac  \\\n",
       "0     Unrelated  N/A, Mel not given            8.0      No   \n",
       "1       Related  N/A, Mel not given            8.0      No   \n",
       "2       Related  N/A, Mel not given            8.0      No   \n",
       "\n",
       "   hla_match_drb1_high  pulm_moderate hla_low_res_10  \n",
       "0                  2.0             No           10.0  \n",
       "1                  2.0            Yes           10.0  \n",
       "2                  2.0             No           10.0  \n",
       "\n",
       "[3 rows x 58 columns]"
      ]
     },
     "metadata": {},
     "output_type": "display_data"
    }
   ],
   "source": [
    "#train + valid\n",
    "df = pd.read_csv(f'{PATH}/train.csv')\n",
    "df = df.ffill()\n",
    "display(df.head(3))\n",
    "\n",
    "#test\n",
    "test_df = pd.read_csv(f'{PATH}/test.csv')\n",
    "test_df = test_df.ffill()\n",
    "display(test_df.head(3))"
   ]
  },
  {
   "cell_type": "markdown",
   "id": "7a891fa6",
   "metadata": {
    "papermill": {
     "duration": 0.0092,
     "end_time": "2025-02-14T07:25:03.613425",
     "exception": false,
     "start_time": "2025-02-14T07:25:03.604225",
     "status": "completed"
    },
    "tags": []
   },
   "source": [
    "# Class Distribution\n",
    "There is a class balance in the dataset."
   ]
  },
  {
   "cell_type": "code",
   "execution_count": 7,
   "id": "dabdb70d",
   "metadata": {
    "execution": {
     "iopub.execute_input": "2025-02-14T07:25:03.633838Z",
     "iopub.status.busy": "2025-02-14T07:25:03.633531Z",
     "iopub.status.idle": "2025-02-14T07:25:03.648174Z",
     "shell.execute_reply": "2025-02-14T07:25:03.647422Z"
    },
    "papermill": {
     "duration": 0.02647,
     "end_time": "2025-02-14T07:25:03.649540",
     "exception": false,
     "start_time": "2025-02-14T07:25:03.623070",
     "status": "completed"
    },
    "tags": []
   },
   "outputs": [
    {
     "name": "stdout",
     "output_type": "stream",
     "text": [
      "Class Distribution (%):\n"
     ]
    },
    {
     "data": {
      "text/plain": [
       "efs\n",
       "1.0    53.930556\n",
       "0.0    46.069444\n",
       "Name: proportion, dtype: float64"
      ]
     },
     "metadata": {},
     "output_type": "display_data"
    }
   ],
   "source": [
    "print(\"Class Distribution (%):\")\n",
    "display(df.efs.value_counts(normalize=True)*100)"
   ]
  },
  {
   "cell_type": "markdown",
   "id": "8986aa61",
   "metadata": {
    "papermill": {
     "duration": 0.010438,
     "end_time": "2025-02-14T07:25:03.671144",
     "exception": false,
     "start_time": "2025-02-14T07:25:03.660706",
     "status": "completed"
    },
    "tags": []
   },
   "source": [
    "# Class Weight"
   ]
  },
  {
   "cell_type": "code",
   "execution_count": 8,
   "id": "13f3e1fe",
   "metadata": {
    "execution": {
     "iopub.execute_input": "2025-02-14T07:25:03.691160Z",
     "iopub.status.busy": "2025-02-14T07:25:03.690872Z",
     "iopub.status.idle": "2025-02-14T07:25:03.701761Z",
     "shell.execute_reply": "2025-02-14T07:25:03.700837Z"
    },
    "papermill": {
     "duration": 0.022606,
     "end_time": "2025-02-14T07:25:03.703361",
     "exception": false,
     "start_time": "2025-02-14T07:25:03.680755",
     "status": "completed"
    },
    "tags": []
   },
   "outputs": [
    {
     "name": "stdout",
     "output_type": "stream",
     "text": [
      "Class Weights: {0: 1.0853180584865842, 1: 0.9271182075714653}\n"
     ]
    }
   ],
   "source": [
    "from sklearn.utils.class_weight import compute_class_weight\n",
    "class_weights = compute_class_weight('balanced', classes=np.unique(df['efs']), y=df['efs'])\n",
    "class_weights = dict(enumerate(class_weights))\n",
    "print(\"Class Weights:\", class_weights)"
   ]
  },
  {
   "cell_type": "markdown",
   "id": "300ce020",
   "metadata": {
    "papermill": {
     "duration": 0.009594,
     "end_time": "2025-02-14T07:25:03.723654",
     "exception": false,
     "start_time": "2025-02-14T07:25:03.714060",
     "status": "completed"
    },
    "tags": []
   },
   "source": [
    "# Data Split\n"
   ]
  },
  {
   "cell_type": "code",
   "execution_count": 9,
   "id": "18719391",
   "metadata": {
    "execution": {
     "iopub.execute_input": "2025-02-14T07:25:03.744798Z",
     "iopub.status.busy": "2025-02-14T07:25:03.744519Z",
     "iopub.status.idle": "2025-02-14T07:25:15.487270Z",
     "shell.execute_reply": "2025-02-14T07:25:15.486060Z"
    },
    "papermill": {
     "duration": 11.755468,
     "end_time": "2025-02-14T07:25:15.489153",
     "exception": false,
     "start_time": "2025-02-14T07:25:03.733685",
     "status": "completed"
    },
    "tags": []
   },
   "outputs": [
    {
     "name": "stdout",
     "output_type": "stream",
     "text": [
      "# Num Train: 23040 | Num Validation: 5760\n"
     ]
    }
   ],
   "source": [
    "df = df.reset_index(drop=True)\n",
    "df[\"fold\"]=-1\n",
    "\n",
    "sgkf = StratifiedGroupKFold(n_splits=5, shuffle=True, random_state=Config.seed)\n",
    "for i, (train_idx, valid_idx) in enumerate(sgkf.split(df, y=df.efs, groups=df.ID)):\n",
    "    df.loc[valid_idx, \"fold\"] = int(i)\n",
    "\n",
    "#use first fold for training and validation\n",
    "train_df = df.query(\"fold!=0\")\n",
    "valid_df = df.query(\"fold==0\")\n",
    "print(f\"# Num Train: {len(train_df)} | Num Validation: {len(valid_df)}\")"
   ]
  },
  {
   "cell_type": "markdown",
   "id": "f1bdc34e",
   "metadata": {
    "papermill": {
     "duration": 0.010354,
     "end_time": "2025-02-14T07:25:15.511288",
     "exception": false,
     "start_time": "2025-02-14T07:25:15.500934",
     "status": "completed"
    },
    "tags": []
   },
   "source": [
    "Class Distribution in Training"
   ]
  },
  {
   "cell_type": "code",
   "execution_count": 10,
   "id": "e8e39b58",
   "metadata": {
    "execution": {
     "iopub.execute_input": "2025-02-14T07:25:15.533280Z",
     "iopub.status.busy": "2025-02-14T07:25:15.532913Z",
     "iopub.status.idle": "2025-02-14T07:25:15.540453Z",
     "shell.execute_reply": "2025-02-14T07:25:15.539427Z"
    },
    "papermill": {
     "duration": 0.020508,
     "end_time": "2025-02-14T07:25:15.542231",
     "exception": false,
     "start_time": "2025-02-14T07:25:15.521723",
     "status": "completed"
    },
    "tags": []
   },
   "outputs": [
    {
     "data": {
      "text/plain": [
       "efs\n",
       "1.0    12442\n",
       "0.0    10598\n",
       "Name: count, dtype: int64"
      ]
     },
     "execution_count": 10,
     "metadata": {},
     "output_type": "execute_result"
    }
   ],
   "source": [
    "train_df.efs.value_counts()"
   ]
  },
  {
   "cell_type": "markdown",
   "id": "7c0fa476",
   "metadata": {
    "papermill": {
     "duration": 0.011649,
     "end_time": "2025-02-14T07:25:15.567069",
     "exception": false,
     "start_time": "2025-02-14T07:25:15.555420",
     "status": "completed"
    },
    "tags": []
   },
   "source": [
    "Class Distribution in Validation"
   ]
  },
  {
   "cell_type": "code",
   "execution_count": 11,
   "id": "1517a69e",
   "metadata": {
    "execution": {
     "iopub.execute_input": "2025-02-14T07:25:15.589206Z",
     "iopub.status.busy": "2025-02-14T07:25:15.588873Z",
     "iopub.status.idle": "2025-02-14T07:25:15.595661Z",
     "shell.execute_reply": "2025-02-14T07:25:15.594846Z"
    },
    "papermill": {
     "duration": 0.019646,
     "end_time": "2025-02-14T07:25:15.597065",
     "exception": false,
     "start_time": "2025-02-14T07:25:15.577419",
     "status": "completed"
    },
    "tags": []
   },
   "outputs": [
    {
     "data": {
      "text/plain": [
       "efs\n",
       "1.0    3090\n",
       "0.0    2670\n",
       "Name: count, dtype: int64"
      ]
     },
     "execution_count": 11,
     "metadata": {},
     "output_type": "execute_result"
    }
   ],
   "source": [
    "valid_df.efs.value_counts()"
   ]
  },
  {
   "cell_type": "markdown",
   "id": "49ef76f2",
   "metadata": {
    "papermill": {
     "duration": 0.010651,
     "end_time": "2025-02-14T07:25:15.618318",
     "exception": false,
     "start_time": "2025-02-14T07:25:15.607667",
     "status": "completed"
    },
    "tags": []
   },
   "source": [
    "# Features\n",
    "It is encouraged to try other data processing methods."
   ]
  },
  {
   "cell_type": "code",
   "execution_count": 12,
   "id": "18728020",
   "metadata": {
    "execution": {
     "iopub.execute_input": "2025-02-14T07:25:15.641491Z",
     "iopub.status.busy": "2025-02-14T07:25:15.641178Z",
     "iopub.status.idle": "2025-02-14T07:25:15.646620Z",
     "shell.execute_reply": "2025-02-14T07:25:15.645825Z"
    },
    "papermill": {
     "duration": 0.01912,
     "end_time": "2025-02-14T07:25:15.648093",
     "exception": false,
     "start_time": "2025-02-14T07:25:15.628973",
     "status": "completed"
    },
    "tags": []
   },
   "outputs": [],
   "source": [
    "hct_ci_mapping = {\n",
    "    \"arrhythmia\": {\"No\": 0, \"Not done\": 0, \"Yes\": 1},\n",
    "    \"cardiac\": {\"No\": 0, \"Not done\": 0, \"Yes\": 1},\n",
    "    \"diabetes\": {\"No\": 0, \"Not done\": 0, \"Yes\": 1},\n",
    "    \"hepatic_mild\":{\"No\": 0, \"Not done\": 0, \"Yes\": 1},\n",
    "    \"hepatic_severe\": {\"No\": 0, \"Not done\": 0, \"Yes\": 3},\n",
    "    \"psych_disturb\": {\"No\": 0, \"Not done\": 0, \"Yes\": 1},\n",
    "    \"obesity\": {\"No\": 0, \"Not done\": 0, \"Yes\": 1},\n",
    "    \"rheum_issue\": {\"No\": 0, \"Not done\": 0, \"Yes\": 2},\n",
    "    \"peptic_ucler\": {\"No\": 0, \"Not done\": 0, \"Yes\": 2},\n",
    "    \"renal_issue\": {\"No\": 0, \"Not done\": 0, \"Yes\": 2},\n",
    "    \"prior_tumor\": {\"No\": 0, \"Not done\": 0, \"Yes\": 3},\n",
    "    \"pulm_moderate\": {\"No\": 0, \"Not done\": 0, \"Yes\": 2},\n",
    "    \"pulm_severe\": {\"No\": 0, \"Not done\": 0, \"Yes\": 3},\n",
    "}"
   ]
  },
  {
   "cell_type": "code",
   "execution_count": 13,
   "id": "90a1f4f3",
   "metadata": {
    "execution": {
     "iopub.execute_input": "2025-02-14T07:25:15.670624Z",
     "iopub.status.busy": "2025-02-14T07:25:15.670312Z",
     "iopub.status.idle": "2025-02-14T07:25:15.675669Z",
     "shell.execute_reply": "2025-02-14T07:25:15.674935Z"
    },
    "papermill": {
     "duration": 0.017894,
     "end_time": "2025-02-14T07:25:15.676896",
     "exception": false,
     "start_time": "2025-02-14T07:25:15.659002",
     "status": "completed"
    },
    "tags": []
   },
   "outputs": [],
   "source": [
    "def calculate_hct_ci_score(row, mapping):\n",
    "    score = 0\n",
    "    if \"hepatic_severe\" in row and row[\"hepatic_severe\"] == \"Yes\":\n",
    "        score += mapping[\"hepatic_severe\"][\"Yes\"]\n",
    "    elif \"hepatic_mild\" in row and row[\"hepatic_mild\"] ==\"Yes\":\n",
    "        score += mapping[\"hepatic_mild\"][\"Yes\"]\n",
    "    if \"pulm_moderate\" in row and row[\"pulm_moderate\"] == \"Yes\":\n",
    "        score += mapping[\"pulm_moderate\"][\"Yes\"]\n",
    "    elif \"pulm_severe\" in row and row[\"pulm_severe\"] == \"Yes\":\n",
    "        score += mapping[\"pulm_severe\"][\"Yes\"]\n",
    "    for condition, mapping_values in mapping.items():\n",
    "        if condition not in [\"hepatic_mild\", \"hepatic_severe\", \"pulm_moderate\", \"pulm_severe\"] and condition in row:\n",
    "            score += mapping_values.get(row[condition], 0)\n",
    "    return score"
   ]
  },
  {
   "cell_type": "code",
   "execution_count": 14,
   "id": "a924dee3",
   "metadata": {
    "execution": {
     "iopub.execute_input": "2025-02-14T07:25:15.699535Z",
     "iopub.status.busy": "2025-02-14T07:25:15.699236Z",
     "iopub.status.idle": "2025-02-14T07:25:15.705371Z",
     "shell.execute_reply": "2025-02-14T07:25:15.704465Z"
    },
    "papermill": {
     "duration": 0.018931,
     "end_time": "2025-02-14T07:25:15.706859",
     "exception": false,
     "start_time": "2025-02-14T07:25:15.687928",
     "status": "completed"
    },
    "tags": []
   },
   "outputs": [],
   "source": [
    "def num(df):\n",
    "    df['conditioning_intensity'] = df['conditioning_intensity'].map({\n",
    "        'NMA': 1,\n",
    "        'RIC': 2,\n",
    "        'MAC': 3,\n",
    "        'TBD': None,\n",
    "        'No drugs reported': None,\n",
    "        'N/A, F(pre-TED) not submitted': None\n",
    "    })\n",
    "    df['tbi_status'] = df['tbi_status'].map({\n",
    "        'No TBI': 0,\n",
    "        'TBI +- Other, <=cGy': 1,\n",
    "        'TBI +- Other, -cGy, fractionated': 2,\n",
    "        'TBI + Cy +- Other': 3,\n",
    "        'TBI +- Other, -cGy, single': 4,\n",
    "        'TBI +- Other, >cGy': 5,\n",
    "        'TBI +- Other, unknown does': None\n",
    "    })\n",
    "    df['dri_score'] = df['dri_score'].map({\n",
    "        'Low': 1,\n",
    "        'Intermediate': 2,\n",
    "        'Intermediate - TED AML case <missing cytogenetics': 3,\n",
    "        'High': 4,\n",
    "        'High - TED AML case <missing sytogenetics': 5,\n",
    "        'Very High': 6,\n",
    "        'N/A - pediatric': -3,\n",
    "        'N/A - non-malignant indication': -1,\n",
    "        'TBD cytogenetics': -2,\n",
    "        'N/A - disease not classifiable': -4,\n",
    "        'Missing disease status': 0\n",
    "    })\n",
    "    df['cyto_score'] = df['cyto_score'].map({\n",
    "        'Poor': 4,\n",
    "        'Normal': 3,\n",
    "        'Intermediate': 2,\n",
    "        'Favorable': 1,\n",
    "        'TBD': -1,\n",
    "        'Other': -2,\n",
    "        'Not tested': None\n",
    "    })\n",
    "    df['cyto_score_detail'] = df['cyto_score_detail'].map({\n",
    "        'Poor': 3,\n",
    "        'Intermedia': 2,\n",
    "        'Favorable': 1,\n",
    "        'TBD': -1,\n",
    "        'Not tested': None\n",
    "    })\n",
    "    return df"
   ]
  },
  {
   "cell_type": "code",
   "execution_count": 15,
   "id": "3da6e6bf",
   "metadata": {
    "execution": {
     "iopub.execute_input": "2025-02-14T07:25:15.728964Z",
     "iopub.status.busy": "2025-02-14T07:25:15.728719Z",
     "iopub.status.idle": "2025-02-14T07:25:15.734265Z",
     "shell.execute_reply": "2025-02-14T07:25:15.733558Z"
    },
    "papermill": {
     "duration": 0.017876,
     "end_time": "2025-02-14T07:25:15.735578",
     "exception": false,
     "start_time": "2025-02-14T07:25:15.717702",
     "status": "completed"
    },
    "tags": []
   },
   "outputs": [],
   "source": [
    "def fill_hla_combined_low(row):\n",
    "    if np.isnan(row['hla_combined_low']):\n",
    "        components = [\n",
    "            row['hla_match_drb1_row'], row['hla_match_dqb1_low'],\n",
    "            row['hla_match_a_low'], row['hla_match_b_low'], row['hla_match_c_low']\n",
    "        ]\n",
    "        if all([not np.isnan(x) for x in components]):\n",
    "            return sum(components)\n",
    "        else:\n",
    "            if not np.isnan(row['hla_low_res_8']) and not np.isnsn(row['hla_match_dqb1_low']):\n",
    "                return row['hla_low_res_8'] + row['hla_match_dqb1_low']\n",
    "            elif not np.isnan(row['hla_low_res_6']):\n",
    "                components_6 = [\n",
    "                    row['hla_match_dqb1_low'], row['hla_match_c_low']\n",
    "                ]\n",
    "                if all([not np.isnan(x) for x in components_6]):\n",
    "                    return row['hla_low_res_6'] + sum(components_6)\n",
    "                else:\n",
    "                    return sum([x for x in components if not np.isnan(x)])\n",
    "    return row['hla_combined_low']"
   ]
  },
  {
   "cell_type": "code",
   "execution_count": 16,
   "id": "a66c98ef",
   "metadata": {
    "execution": {
     "iopub.execute_input": "2025-02-14T07:25:15.757633Z",
     "iopub.status.busy": "2025-02-14T07:25:15.757378Z",
     "iopub.status.idle": "2025-02-14T07:25:15.761404Z",
     "shell.execute_reply": "2025-02-14T07:25:15.760542Z"
    },
    "papermill": {
     "duration": 0.016396,
     "end_time": "2025-02-14T07:25:15.762900",
     "exception": false,
     "start_time": "2025-02-14T07:25:15.746504",
     "status": "completed"
    },
    "tags": []
   },
   "outputs": [],
   "source": [
    "RMV = [\"ID\", \"efs\", \"efs_time\", \"y\", \"race_group\",\"fold\",\"hla_match_c_high\",\"cyto_score\",\"tce_div_match\",\"tce_imm_match\",\"hla_high_res_10\",\"hla_high_res_8\"]\n",
    "FEATURES = [c for c in train_df.columns if not c in RMV]"
   ]
  },
  {
   "cell_type": "code",
   "execution_count": 17,
   "id": "a29a20cb",
   "metadata": {
    "execution": {
     "iopub.execute_input": "2025-02-14T07:25:15.785829Z",
     "iopub.status.busy": "2025-02-14T07:25:15.785544Z",
     "iopub.status.idle": "2025-02-14T07:25:16.044481Z",
     "shell.execute_reply": "2025-02-14T07:25:16.043347Z"
    },
    "papermill": {
     "duration": 0.272576,
     "end_time": "2025-02-14T07:25:16.046128",
     "exception": false,
     "start_time": "2025-02-14T07:25:15.773552",
     "status": "completed"
    },
    "tags": []
   },
   "outputs": [
    {
     "name": "stdout",
     "output_type": "stream",
     "text": [
      "label encode the catgorical features:label encode the categorical features:dri_score,psych_disturb,diabetes,tbi_status,arrhythmia,graft_type,vent_hist,renal_issue,pulm_severe,prim_disease_hct,cmv_status,rituximab,prod_type,cyto_score_detail,conditioning_intensity,ethnicity,obesity,mrd_hct,in_vivo_tcd,tce_match,hepatic_severe,prior_tumor,peptic_ulcer,gvhd_proph,rheum_issue,sex_match,hepatic_mild,donor_related,melphalan_dose,cardiac,pulm_moderate,"
     ]
    }
   ],
   "source": [
    "CATS = []\n",
    "combined = pd.concat([train_df,valid_df,test_df],axis=0, ignore_index=True)\n",
    "print(\"label encode the catgorical features:\", end=\"\")\n",
    "\n",
    "for c in FEATURES:\n",
    "    if train_df[c].dtype=='object':\n",
    "        CATS.append(c)\n",
    "        train_df[c] = train_df[c].fillna(\"NAN\")\n",
    "        valid_df[c] = valid_df[c].fillna(\"NAN\")\n",
    "        test_df[c] = test_df[c].fillna(\"NAN\")\n",
    "print(\"label encode the categorical features:\", end=\"\")       \n",
    "for c in FEATURES:\n",
    "    if c in CATS:\n",
    "        print(f\"{c},\", end=\"\")\n",
    "        combined[c],_ = combined[c].factorize()\n",
    "        combined[c] -= combined[c].min()\n",
    "        combined[c] = combined[c].astype(\"int32\")\n",
    "        combined[c] = combined[c].astype(\"category\")\n",
    "    else:\n",
    "        if combined[c].dtype==\"float64\":\n",
    "            combined[c] = combined[c].astype(\"float32\")\n",
    "        if combined[c].dtype==\"int64\":\n",
    "            combined[c] = combined[c].astype(\"int32\")\n",
    "\n",
    "train_df = combined.iloc[:len(train_df)].copy()\n",
    "valid_df = combined.iloc[:len(train_df):].reset_index(drop=True).copy()\n",
    "test_df = combined.iloc[len(train_df):].reset_index(drop=True).copy()\n",
    "              "
   ]
  },
  {
   "cell_type": "markdown",
   "id": "a768b7f1",
   "metadata": {
    "execution": {
     "iopub.execute_input": "2025-02-09T13:59:00.604935Z",
     "iopub.status.busy": "2025-02-09T13:59:00.604517Z",
     "iopub.status.idle": "2025-02-09T13:59:00.611062Z",
     "shell.execute_reply": "2025-02-09T13:59:00.609674Z",
     "shell.execute_reply.started": "2025-02-09T13:59:00.604908Z"
    },
    "papermill": {
     "duration": 0.010423,
     "end_time": "2025-02-14T07:25:16.067943",
     "exception": false,
     "start_time": "2025-02-14T07:25:16.057520",
     "status": "completed"
    },
    "tags": []
   },
   "source": [
    "categorical_columns = [\"dri_score\", \"psych_disturb\", \"cyto_score\", \"diabetes\", \"tbi_status\",\n",
    "                      \"arrhythmia\", \"graft_type\", \"vent_hist\", \"renal_issue\", \"pulm_severe\", \n",
    "                      \"prim_disease_hct\", \"cmv_status\", \"tce_imm_match\", \"rituximab\",\n",
    "                       \"prod_type\", \"cyto_score_detail\", \"conditioning_intensity\", \n",
    "                       \"ethnicity\",\n",
    "                     \"obesity\", \"mrd_hct\",\n",
    "                       \"in_vivo_tcd\", \"tce_match\", \"hepatic_severe\",\n",
    "                      \"prior_tumor\", \"peptic_ulcer\", \"gvhd_proph\", \"rheum_issue\", \"sex_match\",\n",
    "                      \"race_group\",\n",
    "                       \"hepatic_mild\", \n",
    "                       \"tce_div_match\",\n",
    "                       \"donor_related\", \"melphalan_dose\",\n",
    "                      \"cardiac\", \"pulm_moderate\"\n",
    "]\n",
    "numeric_columns = [\"hla_match_c_high\", \"hla_high_res_8\", \"hla_low_res_6\", \"hla_high_res_6\",\n",
    "                  \"hla_high_res_10\", \"hla_match_dqb1_high\", \"hla_nmdp_6\", \"hla_match_c_low\",\n",
    "                  \"hla_match_drb1_low\", \"hla_match_dqb1_low\", \"year_hct\", \"hla_match_a_high\", \n",
    "                   \"donor_age\", \"hla_match_b_low\", \"age_at_hct\", \"hla_match_a_low\",\"hla_match_b_high\",\n",
    "                  \"comorbidity_score\", \"karnofsky_score\", \"hla_low_res_8\", \"hla_match_drb1_high\", \n",
    "                  \"hla_low_res_10\", ]\n",
    "feature_columns = categorical_columns + numeric_columns"
   ]
  },
  {
   "cell_type": "code",
   "execution_count": 18,
   "id": "3dad1639",
   "metadata": {
    "execution": {
     "iopub.execute_input": "2025-02-14T07:25:16.091370Z",
     "iopub.status.busy": "2025-02-14T07:25:16.091010Z",
     "iopub.status.idle": "2025-02-14T07:25:16.096593Z",
     "shell.execute_reply": "2025-02-14T07:25:16.095791Z"
    },
    "papermill": {
     "duration": 0.019176,
     "end_time": "2025-02-14T07:25:16.098060",
     "exception": false,
     "start_time": "2025-02-14T07:25:16.078884",
     "status": "completed"
    },
    "tags": []
   },
   "outputs": [],
   "source": [
    "def build_dataset(\n",
    "    ID,\n",
    "    FEATURES,\n",
    "    labels=None,\n",
    "    batch_size=32,\n",
    "    shuffle=1024,\n",
    "    cache=True,\n",
    "    drop_remainder=False\n",
    "):\n",
    "    AUTO = tf.data.experimental.AUTOTUNE\n",
    "    inp = {\"FEATURES\":FEATURES}\n",
    "    slices = (inp, labels) if labels is not None else inp\n",
    "    ds = tf.data.Dataset.from_tensor_slices(slices)\n",
    "    ds = ds.cache() if cache else ds\n",
    "    #ds = ds.map(decode_fn, num_parallel_calls=AUTO)\n",
    "    if shuffle:\n",
    "        ds = ds.shuffle(shuffle, seed = Config.seed)\n",
    "        opt = tf.data.Options()\n",
    "        opt.deterministic = False\n",
    "        ds = ds.with_options(opt)\n",
    "    ds = ds.batch(batch_size, drop_remainder=drop_remainder)\n",
    "    ds = ds.prefetch(AUTO)\n",
    "    return ds"
   ]
  },
  {
   "cell_type": "markdown",
   "id": "ed1f208f",
   "metadata": {
    "papermill": {
     "duration": 0.010739,
     "end_time": "2025-02-14T07:25:16.119863",
     "exception": false,
     "start_time": "2025-02-14T07:25:16.109124",
     "status": "completed"
    },
    "tags": []
   },
   "source": [
    "# Build Training and Validation Dataset"
   ]
  },
  {
   "cell_type": "code",
   "execution_count": 19,
   "id": "55a447eb",
   "metadata": {
    "execution": {
     "iopub.execute_input": "2025-02-14T07:25:16.142823Z",
     "iopub.status.busy": "2025-02-14T07:25:16.142515Z",
     "iopub.status.idle": "2025-02-14T07:25:18.518932Z",
     "shell.execute_reply": "2025-02-14T07:25:18.517833Z"
    },
    "papermill": {
     "duration": 2.389919,
     "end_time": "2025-02-14T07:25:18.520813",
     "exception": false,
     "start_time": "2025-02-14T07:25:16.130894",
     "status": "completed"
    },
    "tags": []
   },
   "outputs": [],
   "source": [
    "#train\n",
    "train_FEATURES = dict(train_df[FEATURES])\n",
    "train_ID = train_df.ID.values\n",
    "train_labels = train_df.efs.values\n",
    "train_ds = build_dataset(train_ID, train_FEATURES, train_labels, batch_size = Config.batch_size,\n",
    "                        shuffle = True)"
   ]
  },
  {
   "cell_type": "code",
   "execution_count": 20,
   "id": "820bed07",
   "metadata": {
    "execution": {
     "iopub.execute_input": "2025-02-14T07:25:18.543821Z",
     "iopub.status.busy": "2025-02-14T07:25:18.543502Z",
     "iopub.status.idle": "2025-02-14T07:25:18.633821Z",
     "shell.execute_reply": "2025-02-14T07:25:18.633064Z"
    },
    "papermill": {
     "duration": 0.103551,
     "end_time": "2025-02-14T07:25:18.635508",
     "exception": false,
     "start_time": "2025-02-14T07:25:18.531957",
     "status": "completed"
    },
    "tags": []
   },
   "outputs": [],
   "source": [
    "#valid\n",
    "valid_FEATURES = dict(valid_df[FEATURES])\n",
    "valid_ID = valid_df.ID.values\n",
    "valid_labels = valid_df.efs.values\n",
    "valid_ds = build_dataset(valid_ID, valid_FEATURES, valid_labels, batch_size = Config.batch_size,\n",
    "                        shuffle = False)"
   ]
  },
  {
   "cell_type": "code",
   "execution_count": 21,
   "id": "09562f50",
   "metadata": {
    "execution": {
     "iopub.execute_input": "2025-02-14T07:25:18.658872Z",
     "iopub.status.busy": "2025-02-14T07:25:18.658545Z",
     "iopub.status.idle": "2025-02-14T07:25:18.714723Z",
     "shell.execute_reply": "2025-02-14T07:25:18.713761Z"
    },
    "papermill": {
     "duration": 0.069842,
     "end_time": "2025-02-14T07:25:18.716561",
     "exception": false,
     "start_time": "2025-02-14T07:25:18.646719",
     "status": "completed"
    },
    "tags": []
   },
   "outputs": [],
   "source": [
    "feature_space = keras.utils.FeatureSpace(\n",
    "    features = {\n",
    "        \"dri_score\":\"float_normalized\",\n",
    "        \"psych_disturb\":\"float_normalized\",\n",
    "        #\"cyto_score\":\"float_normalized\",\n",
    "        \"diabetes\":\"float_normalized\",\n",
    "        \"tbi_status\":\"float_normalized\",\n",
    "        \"arrhythmia\":\"float_normalized\",\n",
    "        \"graft_type\":\"float_normalized\",\n",
    "        \"vent_hist\":\"float_normalized\",\n",
    "        \"renal_issue\":\"float_normalized\",\n",
    "        \"pulm_severe\":\"float_normalized\",\n",
    "        \"prim_disease_hct\":\"float_normalized\",\n",
    "        \"cmv_status\":\"float_normalized\", \n",
    "        #\"tce_imm_match\":\"float_normalized\",\n",
    "        \"rituximab\":\"float_normalized\",\n",
    "        \"prod_type\":'float_normalized',\n",
    "        \"cyto_score_detail\":\"float_normalized\",\n",
    "        \"conditioning_intensity\":\"float_normalized\",\n",
    "        \"ethnicity\":\"float_normalized\",\n",
    "        \"obesity\":\"float_normalized\",\n",
    "        \"mrd_hct\":\"float_normalized\",\n",
    "        \"in_vivo_tcd\":\"float_normalized\",\n",
    "        \"tce_match\":\"float_normalized\",\n",
    "        \"hepatic_severe\":\"float_normalized\",\n",
    "        \"prior_tumor\":\"float_normalized\",\n",
    "        \"peptic_ulcer\":\"float_normalized\",\n",
    "        \"gvhd_proph\":\"float_normalized\",\n",
    "        \"rheum_issue\":\"float_normalized\",\n",
    "        \"sex_match\":\"float_normalized\",\n",
    "        #\"race_group\":\"float_normalized\",\n",
    "        \"hepatic_mild\":\"float_normalized\",\n",
    "        #\"tce_div_match\":\"float_normalized\",\n",
    "        \"donor_related\":\"float_normalized\",\n",
    "        \"melphalan_dose\":\"float_normalized\",\n",
    "        \"cardiac\":\"float_normalized\",\n",
    "        \"pulm_moderate\":\"float_normalized\",  \n",
    "        \"year_hct\":\"float_discretized\", \n",
    "        \"age_at_hct\":\"float_discretized\",\n",
    "        \"donor_age\":\"float_discretized\",\n",
    "        #\"hla_match_c_high\":\"float_normalized\",\n",
    "        #\"hla_high_res_8\":\"float_normalized\",\n",
    "        \"hla_low_res_6\":\"float_normalized\",\n",
    "        \"hla_high_res_6\":\"float_normalized\",\n",
    "        #\"hla_high_res_10\":\"float_normalized\",\n",
    "        \"hla_match_dqb1_high\":\"float_normalized\",\n",
    "        \"hla_nmdp_6\":\"float_normalized\",\n",
    "        \"hla_match_c_low\":\"float_normalized\",\n",
    "        \"hla_match_drb1_low\":\"float_normalized\",\n",
    "        \"hla_match_dqb1_low\":\"float_normalized\",\n",
    "        \"hla_match_a_high\":\"float_normalized\", \n",
    "        \"hla_match_b_low\":\"float_normalized\", \n",
    "        \"hla_match_a_low\":\"float_normalized\",\n",
    "        \"hla_match_b_high\":\"float_normalized\",\n",
    "        \"comorbidity_score\":\"float_normalized\",\n",
    "        \"karnofsky_score\":\"float_normalized\",\n",
    "        \"hla_low_res_8\":\"float_normalized\", \n",
    "        \"hla_match_drb1_high\":\"float_normalized\", \n",
    "        \"hla_low_res_10\":\"float_normalized\", \n",
    "        #\"hct_ci_score\":\"float_normalized\",\n",
    "        #\"donor_recipient_age_diff\":\"float_normalized\",\n",
    "        #\"hla_combined_low\":\"float_normalized\",\n",
    "        #\"hla_match_ratio\":\"float_normalized\",\n",
    "        #\"years_since_2000\":\"float_normalized\",\n",
    "        #\"null_count\":\"float_normalized\",\n",
    "        #\"ci_score_danger\":\"float_normalized\",\n",
    "        #\"fold\":\"float_normalized\",\n",
    "    },\n",
    "    output_mode='concat',\n",
    ")"
   ]
  },
  {
   "cell_type": "code",
   "execution_count": 22,
   "id": "96f24650",
   "metadata": {
    "execution": {
     "iopub.execute_input": "2025-02-14T07:25:18.787584Z",
     "iopub.status.busy": "2025-02-14T07:25:18.787225Z",
     "iopub.status.idle": "2025-02-14T07:25:57.209565Z",
     "shell.execute_reply": "2025-02-14T07:25:57.208430Z"
    },
    "papermill": {
     "duration": 38.436332,
     "end_time": "2025-02-14T07:25:57.211500",
     "exception": false,
     "start_time": "2025-02-14T07:25:18.775168",
     "status": "completed"
    },
    "tags": []
   },
   "outputs": [],
   "source": [
    "train_ds_with_no_labels = train_ds.map(lambda x, _: x[\"FEATURES\"])\n",
    "feature_space.adapt(train_ds_with_no_labels)"
   ]
  },
  {
   "cell_type": "code",
   "execution_count": 23,
   "id": "b2cbca20",
   "metadata": {
    "execution": {
     "iopub.execute_input": "2025-02-14T07:25:57.235140Z",
     "iopub.status.busy": "2025-02-14T07:25:57.234801Z",
     "iopub.status.idle": "2025-02-14T07:25:58.004940Z",
     "shell.execute_reply": "2025-02-14T07:25:58.003942Z"
    },
    "papermill": {
     "duration": 0.783529,
     "end_time": "2025-02-14T07:25:58.006364",
     "exception": false,
     "start_time": "2025-02-14T07:25:57.222835",
     "status": "completed"
    },
    "tags": []
   },
   "outputs": [
    {
     "name": "stdout",
     "output_type": "stream",
     "text": [
      "preprocessed_x.shape: (128, 143)\n",
      "preprocessed_x.dtype: <dtype: 'float32'>\n"
     ]
    }
   ],
   "source": [
    "for x, _ in train_ds.take(1):\n",
    "    preprocessed_x = feature_space(x[\"FEATURES\"])\n",
    "    print(\"preprocessed_x.shape:\", preprocessed_x.shape)\n",
    "    print(\"preprocessed_x.dtype:\", preprocessed_x.dtype)"
   ]
  },
  {
   "cell_type": "markdown",
   "id": "69ea0732",
   "metadata": {
    "papermill": {
     "duration": 0.009959,
     "end_time": "2025-02-14T07:25:58.027108",
     "exception": false,
     "start_time": "2025-02-14T07:25:58.017149",
     "status": "completed"
    },
    "tags": []
   },
   "source": [
    "Feature Processing"
   ]
  },
  {
   "cell_type": "code",
   "execution_count": 24,
   "id": "5a8c0492",
   "metadata": {
    "execution": {
     "iopub.execute_input": "2025-02-14T07:25:58.049188Z",
     "iopub.status.busy": "2025-02-14T07:25:58.048826Z",
     "iopub.status.idle": "2025-02-14T07:25:58.448743Z",
     "shell.execute_reply": "2025-02-14T07:25:58.447895Z"
    },
    "papermill": {
     "duration": 0.413075,
     "end_time": "2025-02-14T07:25:58.450524",
     "exception": false,
     "start_time": "2025-02-14T07:25:58.037449",
     "status": "completed"
    },
    "tags": []
   },
   "outputs": [],
   "source": [
    "train_ds = train_ds.map(\n",
    "    lambda x, y: ({\"FEATURES\": feature_space(x[\"FEATURES\"])}, y), num_parallel_calls=tf.data.AUTOTUNE)"
   ]
  },
  {
   "cell_type": "code",
   "execution_count": 25,
   "id": "da5daf8f",
   "metadata": {
    "execution": {
     "iopub.execute_input": "2025-02-14T07:25:58.472763Z",
     "iopub.status.busy": "2025-02-14T07:25:58.472474Z",
     "iopub.status.idle": "2025-02-14T07:25:58.832154Z",
     "shell.execute_reply": "2025-02-14T07:25:58.831072Z"
    },
    "papermill": {
     "duration": 0.372623,
     "end_time": "2025-02-14T07:25:58.833900",
     "exception": false,
     "start_time": "2025-02-14T07:25:58.461277",
     "status": "completed"
    },
    "tags": []
   },
   "outputs": [],
   "source": [
    "valid_ds = valid_ds.map(\n",
    "    lambda x, y: ({\"FEATURES\": feature_space(x[\"FEATURES\"])}, y), num_parallel_calls=tf.data.AUTOTUNE)"
   ]
  },
  {
   "cell_type": "markdown",
   "id": "3b842e21",
   "metadata": {
    "papermill": {
     "duration": 0.011533,
     "end_time": "2025-02-14T07:25:58.856944",
     "exception": false,
     "start_time": "2025-02-14T07:25:58.845411",
     "status": "completed"
    },
    "tags": []
   },
   "source": [
    "# Loss and Metrics"
   ]
  },
  {
   "cell_type": "code",
   "execution_count": 26,
   "id": "11a15685",
   "metadata": {
    "execution": {
     "iopub.execute_input": "2025-02-14T07:25:58.880384Z",
     "iopub.status.busy": "2025-02-14T07:25:58.880045Z",
     "iopub.status.idle": "2025-02-14T07:25:58.891758Z",
     "shell.execute_reply": "2025-02-14T07:25:58.890780Z"
    },
    "papermill": {
     "duration": 0.024983,
     "end_time": "2025-02-14T07:25:58.893344",
     "exception": false,
     "start_time": "2025-02-14T07:25:58.868361",
     "status": "completed"
    },
    "tags": []
   },
   "outputs": [],
   "source": [
    "auc = keras.metrics.AUC()\n",
    "loss = keras.losses.BinaryCrossentropy(label_smoothing=0.02)"
   ]
  },
  {
   "cell_type": "markdown",
   "id": "9ec2c43e",
   "metadata": {
    "papermill": {
     "duration": 0.010857,
     "end_time": "2025-02-14T07:25:58.915233",
     "exception": false,
     "start_time": "2025-02-14T07:25:58.904376",
     "status": "completed"
    },
    "tags": []
   },
   "source": [
    "# Modeling"
   ]
  },
  {
   "cell_type": "code",
   "execution_count": 27,
   "id": "39cd0001",
   "metadata": {
    "execution": {
     "iopub.execute_input": "2025-02-14T07:25:58.938400Z",
     "iopub.status.busy": "2025-02-14T07:25:58.938087Z",
     "iopub.status.idle": "2025-02-14T07:26:04.190670Z",
     "shell.execute_reply": "2025-02-14T07:26:04.189864Z"
    },
    "papermill": {
     "duration": 5.266214,
     "end_time": "2025-02-14T07:26:04.192428",
     "exception": false,
     "start_time": "2025-02-14T07:25:58.926214",
     "status": "completed"
    },
    "tags": []
   },
   "outputs": [],
   "source": [
    "#define input layers\n",
    "feat_input = keras.Input(shape=(feature_space.get_encoded_features().shape[1],), name=\"FEATURES\")\n",
    "inp = {\"FEATURES\":feat_input}\n",
    "\n",
    "#feature input\n",
    "backbone = keras_cv.models.EfficientNetV2Backbone.from_preset(Config.preset)\n",
    "x1 = keras.layers.Dense(3072, activation=\"selu\")(feat_input)\n",
    "x1 = keras.layers.Dense(2560, activation=\"selu\")(x1)\n",
    "x1 = keras.layers.Dense(2048, activation=\"selu\")(x1)\n",
    "x1 = keras.layers.Dense(1536, activation=\"selu\")(x1)\n",
    "x1 = keras.layers.Dense(1024,activation=\"selu\")(x1)\n",
    "x1 = keras.layers.Dense(720,activation=\"selu\")(x1)\n",
    "x1 = keras.layers.Dense(640,activation=\"selu\")(x1)\n",
    "#x1 = keras.layers.Dropout(0.1)(x1)\n",
    "\n",
    "#output layer\n",
    "out = keras.layers.Dense(1, activation='sigmoid', dtype=\"float32\")(x1)\n",
    "\n",
    "#build model\n",
    "model = keras.models.Model(feat_input, out)"
   ]
  },
  {
   "cell_type": "code",
   "execution_count": 28,
   "id": "07cf9790",
   "metadata": {
    "execution": {
     "iopub.execute_input": "2025-02-14T07:26:04.216909Z",
     "iopub.status.busy": "2025-02-14T07:26:04.216549Z",
     "iopub.status.idle": "2025-02-14T07:26:04.244678Z",
     "shell.execute_reply": "2025-02-14T07:26:04.243860Z"
    },
    "papermill": {
     "duration": 0.042081,
     "end_time": "2025-02-14T07:26:04.246270",
     "exception": false,
     "start_time": "2025-02-14T07:26:04.204189",
     "status": "completed"
    },
    "tags": []
   },
   "outputs": [
    {
     "data": {
      "text/html": [
       "<pre style=\"white-space:pre;overflow-x:auto;line-height:normal;font-family:Menlo,'DejaVu Sans Mono',consolas,'Courier New',monospace\"><span style=\"font-weight: bold\">Model: \"functional\"</span>\n",
       "</pre>\n"
      ],
      "text/plain": [
       "\u001b[1mModel: \"functional\"\u001b[0m\n"
      ]
     },
     "metadata": {},
     "output_type": "display_data"
    },
    {
     "data": {
      "text/html": [
       "<pre style=\"white-space:pre;overflow-x:auto;line-height:normal;font-family:Menlo,'DejaVu Sans Mono',consolas,'Courier New',monospace\">┏━━━━━━━━━━━━━━━━━━━━━━━━━━━━━━━━━━━━━━┳━━━━━━━━━━━━━━━━━━━━━━━━━━━━━┳━━━━━━━━━━━━━━━━━┓\n",
       "┃<span style=\"font-weight: bold\"> Layer (type)                         </span>┃<span style=\"font-weight: bold\"> Output Shape                </span>┃<span style=\"font-weight: bold\">         Param # </span>┃\n",
       "┡━━━━━━━━━━━━━━━━━━━━━━━━━━━━━━━━━━━━━━╇━━━━━━━━━━━━━━━━━━━━━━━━━━━━━╇━━━━━━━━━━━━━━━━━┩\n",
       "│ FEATURES (<span style=\"color: #0087ff; text-decoration-color: #0087ff\">InputLayer</span>)                │ (<span style=\"color: #00d7ff; text-decoration-color: #00d7ff\">None</span>, <span style=\"color: #00af00; text-decoration-color: #00af00\">143</span>)                 │               <span style=\"color: #00af00; text-decoration-color: #00af00\">0</span> │\n",
       "├──────────────────────────────────────┼─────────────────────────────┼─────────────────┤\n",
       "│ dense (<span style=\"color: #0087ff; text-decoration-color: #0087ff\">Dense</span>)                        │ (<span style=\"color: #00d7ff; text-decoration-color: #00d7ff\">None</span>, <span style=\"color: #00af00; text-decoration-color: #00af00\">3072</span>)                │         <span style=\"color: #00af00; text-decoration-color: #00af00\">442,368</span> │\n",
       "├──────────────────────────────────────┼─────────────────────────────┼─────────────────┤\n",
       "│ dense_1 (<span style=\"color: #0087ff; text-decoration-color: #0087ff\">Dense</span>)                      │ (<span style=\"color: #00d7ff; text-decoration-color: #00d7ff\">None</span>, <span style=\"color: #00af00; text-decoration-color: #00af00\">2560</span>)                │       <span style=\"color: #00af00; text-decoration-color: #00af00\">7,866,880</span> │\n",
       "├──────────────────────────────────────┼─────────────────────────────┼─────────────────┤\n",
       "│ dense_2 (<span style=\"color: #0087ff; text-decoration-color: #0087ff\">Dense</span>)                      │ (<span style=\"color: #00d7ff; text-decoration-color: #00d7ff\">None</span>, <span style=\"color: #00af00; text-decoration-color: #00af00\">2048</span>)                │       <span style=\"color: #00af00; text-decoration-color: #00af00\">5,244,928</span> │\n",
       "├──────────────────────────────────────┼─────────────────────────────┼─────────────────┤\n",
       "│ dense_3 (<span style=\"color: #0087ff; text-decoration-color: #0087ff\">Dense</span>)                      │ (<span style=\"color: #00d7ff; text-decoration-color: #00d7ff\">None</span>, <span style=\"color: #00af00; text-decoration-color: #00af00\">1536</span>)                │       <span style=\"color: #00af00; text-decoration-color: #00af00\">3,147,264</span> │\n",
       "├──────────────────────────────────────┼─────────────────────────────┼─────────────────┤\n",
       "│ dense_4 (<span style=\"color: #0087ff; text-decoration-color: #0087ff\">Dense</span>)                      │ (<span style=\"color: #00d7ff; text-decoration-color: #00d7ff\">None</span>, <span style=\"color: #00af00; text-decoration-color: #00af00\">1024</span>)                │       <span style=\"color: #00af00; text-decoration-color: #00af00\">1,573,888</span> │\n",
       "├──────────────────────────────────────┼─────────────────────────────┼─────────────────┤\n",
       "│ dense_5 (<span style=\"color: #0087ff; text-decoration-color: #0087ff\">Dense</span>)                      │ (<span style=\"color: #00d7ff; text-decoration-color: #00d7ff\">None</span>, <span style=\"color: #00af00; text-decoration-color: #00af00\">720</span>)                 │         <span style=\"color: #00af00; text-decoration-color: #00af00\">738,000</span> │\n",
       "├──────────────────────────────────────┼─────────────────────────────┼─────────────────┤\n",
       "│ dense_6 (<span style=\"color: #0087ff; text-decoration-color: #0087ff\">Dense</span>)                      │ (<span style=\"color: #00d7ff; text-decoration-color: #00d7ff\">None</span>, <span style=\"color: #00af00; text-decoration-color: #00af00\">640</span>)                 │         <span style=\"color: #00af00; text-decoration-color: #00af00\">461,440</span> │\n",
       "├──────────────────────────────────────┼─────────────────────────────┼─────────────────┤\n",
       "│ dense_7 (<span style=\"color: #0087ff; text-decoration-color: #0087ff\">Dense</span>)                      │ (<span style=\"color: #00d7ff; text-decoration-color: #00d7ff\">None</span>, <span style=\"color: #00af00; text-decoration-color: #00af00\">1</span>)                   │             <span style=\"color: #00af00; text-decoration-color: #00af00\">641</span> │\n",
       "└──────────────────────────────────────┴─────────────────────────────┴─────────────────┘\n",
       "</pre>\n"
      ],
      "text/plain": [
       "┏━━━━━━━━━━━━━━━━━━━━━━━━━━━━━━━━━━━━━━┳━━━━━━━━━━━━━━━━━━━━━━━━━━━━━┳━━━━━━━━━━━━━━━━━┓\n",
       "┃\u001b[1m \u001b[0m\u001b[1mLayer (type)                        \u001b[0m\u001b[1m \u001b[0m┃\u001b[1m \u001b[0m\u001b[1mOutput Shape               \u001b[0m\u001b[1m \u001b[0m┃\u001b[1m \u001b[0m\u001b[1m        Param #\u001b[0m\u001b[1m \u001b[0m┃\n",
       "┡━━━━━━━━━━━━━━━━━━━━━━━━━━━━━━━━━━━━━━╇━━━━━━━━━━━━━━━━━━━━━━━━━━━━━╇━━━━━━━━━━━━━━━━━┩\n",
       "│ FEATURES (\u001b[38;5;33mInputLayer\u001b[0m)                │ (\u001b[38;5;45mNone\u001b[0m, \u001b[38;5;34m143\u001b[0m)                 │               \u001b[38;5;34m0\u001b[0m │\n",
       "├──────────────────────────────────────┼─────────────────────────────┼─────────────────┤\n",
       "│ dense (\u001b[38;5;33mDense\u001b[0m)                        │ (\u001b[38;5;45mNone\u001b[0m, \u001b[38;5;34m3072\u001b[0m)                │         \u001b[38;5;34m442,368\u001b[0m │\n",
       "├──────────────────────────────────────┼─────────────────────────────┼─────────────────┤\n",
       "│ dense_1 (\u001b[38;5;33mDense\u001b[0m)                      │ (\u001b[38;5;45mNone\u001b[0m, \u001b[38;5;34m2560\u001b[0m)                │       \u001b[38;5;34m7,866,880\u001b[0m │\n",
       "├──────────────────────────────────────┼─────────────────────────────┼─────────────────┤\n",
       "│ dense_2 (\u001b[38;5;33mDense\u001b[0m)                      │ (\u001b[38;5;45mNone\u001b[0m, \u001b[38;5;34m2048\u001b[0m)                │       \u001b[38;5;34m5,244,928\u001b[0m │\n",
       "├──────────────────────────────────────┼─────────────────────────────┼─────────────────┤\n",
       "│ dense_3 (\u001b[38;5;33mDense\u001b[0m)                      │ (\u001b[38;5;45mNone\u001b[0m, \u001b[38;5;34m1536\u001b[0m)                │       \u001b[38;5;34m3,147,264\u001b[0m │\n",
       "├──────────────────────────────────────┼─────────────────────────────┼─────────────────┤\n",
       "│ dense_4 (\u001b[38;5;33mDense\u001b[0m)                      │ (\u001b[38;5;45mNone\u001b[0m, \u001b[38;5;34m1024\u001b[0m)                │       \u001b[38;5;34m1,573,888\u001b[0m │\n",
       "├──────────────────────────────────────┼─────────────────────────────┼─────────────────┤\n",
       "│ dense_5 (\u001b[38;5;33mDense\u001b[0m)                      │ (\u001b[38;5;45mNone\u001b[0m, \u001b[38;5;34m720\u001b[0m)                 │         \u001b[38;5;34m738,000\u001b[0m │\n",
       "├──────────────────────────────────────┼─────────────────────────────┼─────────────────┤\n",
       "│ dense_6 (\u001b[38;5;33mDense\u001b[0m)                      │ (\u001b[38;5;45mNone\u001b[0m, \u001b[38;5;34m640\u001b[0m)                 │         \u001b[38;5;34m461,440\u001b[0m │\n",
       "├──────────────────────────────────────┼─────────────────────────────┼─────────────────┤\n",
       "│ dense_7 (\u001b[38;5;33mDense\u001b[0m)                      │ (\u001b[38;5;45mNone\u001b[0m, \u001b[38;5;34m1\u001b[0m)                   │             \u001b[38;5;34m641\u001b[0m │\n",
       "└──────────────────────────────────────┴─────────────────────────────┴─────────────────┘\n"
      ]
     },
     "metadata": {},
     "output_type": "display_data"
    },
    {
     "data": {
      "text/html": [
       "<pre style=\"white-space:pre;overflow-x:auto;line-height:normal;font-family:Menlo,'DejaVu Sans Mono',consolas,'Courier New',monospace\"><span style=\"font-weight: bold\"> Total params: </span><span style=\"color: #00af00; text-decoration-color: #00af00\">19,475,409</span> (74.29 MB)\n",
       "</pre>\n"
      ],
      "text/plain": [
       "\u001b[1m Total params: \u001b[0m\u001b[38;5;34m19,475,409\u001b[0m (74.29 MB)\n"
      ]
     },
     "metadata": {},
     "output_type": "display_data"
    },
    {
     "data": {
      "text/html": [
       "<pre style=\"white-space:pre;overflow-x:auto;line-height:normal;font-family:Menlo,'DejaVu Sans Mono',consolas,'Courier New',monospace\"><span style=\"font-weight: bold\"> Trainable params: </span><span style=\"color: #00af00; text-decoration-color: #00af00\">19,475,409</span> (74.29 MB)\n",
       "</pre>\n"
      ],
      "text/plain": [
       "\u001b[1m Trainable params: \u001b[0m\u001b[38;5;34m19,475,409\u001b[0m (74.29 MB)\n"
      ]
     },
     "metadata": {},
     "output_type": "display_data"
    },
    {
     "data": {
      "text/html": [
       "<pre style=\"white-space:pre;overflow-x:auto;line-height:normal;font-family:Menlo,'DejaVu Sans Mono',consolas,'Courier New',monospace\"><span style=\"font-weight: bold\"> Non-trainable params: </span><span style=\"color: #00af00; text-decoration-color: #00af00\">0</span> (0.00 B)\n",
       "</pre>\n"
      ],
      "text/plain": [
       "\u001b[1m Non-trainable params: \u001b[0m\u001b[38;5;34m0\u001b[0m (0.00 B)\n"
      ]
     },
     "metadata": {},
     "output_type": "display_data"
    }
   ],
   "source": [
    "#compile the model\n",
    "model.compile(\n",
    "    optimizer=keras.optimizers.Adam(learning_rate=1e-5),\n",
    "    loss = loss,\n",
    "    metrics = [auc],)\n",
    "\n",
    "#model.summary\n",
    "model.summary()"
   ]
  },
  {
   "cell_type": "markdown",
   "id": "8cdfa37a",
   "metadata": {
    "papermill": {
     "duration": 0.012008,
     "end_time": "2025-02-14T07:26:04.270708",
     "exception": false,
     "start_time": "2025-02-14T07:26:04.258700",
     "status": "completed"
    },
    "tags": []
   },
   "source": [
    "# Plot Model"
   ]
  },
  {
   "cell_type": "code",
   "execution_count": 29,
   "id": "aacef8d6",
   "metadata": {
    "execution": {
     "iopub.execute_input": "2025-02-14T07:26:04.296107Z",
     "iopub.status.busy": "2025-02-14T07:26:04.295741Z",
     "iopub.status.idle": "2025-02-14T07:26:04.576970Z",
     "shell.execute_reply": "2025-02-14T07:26:04.576109Z"
    },
    "papermill": {
     "duration": 0.295882,
     "end_time": "2025-02-14T07:26:04.578729",
     "exception": false,
     "start_time": "2025-02-14T07:26:04.282847",
     "status": "completed"
    },
    "tags": []
   },
   "outputs": [
    {
     "data": {
      "image/png": "[encoded data removed]",
      "text/plain": [
       "<IPython.core.display.Image object>"
      ]
     },
     "execution_count": 29,
     "metadata": {},
     "output_type": "execute_result"
    }
   ],
   "source": [
    "keras.utils.plot_model(model, show_shapes=True, show_layer_names=True, dpi=60)"
   ]
  },
  {
   "cell_type": "markdown",
   "id": "50ee839a",
   "metadata": {
    "papermill": {
     "duration": 0.014839,
     "end_time": "2025-02-14T07:26:04.608248",
     "exception": false,
     "start_time": "2025-02-14T07:26:04.593409",
     "status": "completed"
    },
    "tags": []
   },
   "source": [
    "# Learning Rate"
   ]
  },
  {
   "cell_type": "code",
   "execution_count": 30,
   "id": "cd94a867",
   "metadata": {
    "execution": {
     "iopub.execute_input": "2025-02-14T07:26:04.647795Z",
     "iopub.status.busy": "2025-02-14T07:26:04.647427Z",
     "iopub.status.idle": "2025-02-14T07:26:04.656037Z",
     "shell.execute_reply": "2025-02-14T07:26:04.655084Z"
    },
    "papermill": {
     "duration": 0.031637,
     "end_time": "2025-02-14T07:26:04.657445",
     "exception": false,
     "start_time": "2025-02-14T07:26:04.625808",
     "status": "completed"
    },
    "tags": []
   },
   "outputs": [],
   "source": [
    "import math\n",
    "\n",
    "def get_lr_callback(batch_size=8, mode='cos', epochs=10, plot=False):\n",
    "    lr_start, lr_max, lr_min = 6e-5, 5e-4, 4e-6\n",
    "    lr_ramp_ep, lr_sus_ep, lr_decay = 0, 0, 0.8\n",
    "\n",
    "    def lrfn(epoch):\n",
    "        if epoch < lr_ramp_ep: lr = (lr_max - lr_start) / lr_ramp_ep * epoch + lr_start\n",
    "        elif epoch < lr_ramp_ep +lr_sus_ep: lr = lr_max\n",
    "        elif mode == 'exp': lr = (lr_max - lr_min) * lr_decay ** (epoch - lr_ramp_ep -lr_sus_ep) + lr_min\n",
    "        elif mode == 'step': lr = lr_max * lr_decay**((epoch - lr_ramp_ep - lr_sus_ep) // 2)\n",
    "        elif mode == 'cos': \n",
    "            decay_total_epochs, decay_epoch_index = epochs - lr_ramp_ep - lr-sus_ep + 3, epoch - lr_ramp_ep - lr_sus_ep\n",
    "            phase = math.pi * decay_epoch_index / decay_total_epochs\n",
    "            lr = (lr_max - lr_min) * 0.5 * (1 + math.cos(phase)) + lr_min\n",
    "       \n",
    "        return lr\n",
    "        \n",
    "    if plot:\n",
    "        plt.figure(figsize=(10,5))\n",
    "        plt.plot(np.arange(epochs), [lrfn(epoch) for epoch in np.arange(epochs)], marker='o')\n",
    "        plt.xlabel('epoch');plt.ylabel('lr')\n",
    "        plt.title('LR Scheduler')\n",
    "        plt.show()\n",
    "        \n",
    "    return keras.callbacks.LearningRateScheduler(lrfn, verbose=False)"
   ]
  },
  {
   "cell_type": "code",
   "execution_count": 31,
   "id": "c3e5fb29",
   "metadata": {
    "execution": {
     "iopub.execute_input": "2025-02-14T07:26:04.695060Z",
     "iopub.status.busy": "2025-02-14T07:26:04.694691Z",
     "iopub.status.idle": "2025-02-14T07:26:04.970564Z",
     "shell.execute_reply": "2025-02-14T07:26:04.969610Z"
    },
    "papermill": {
     "duration": 0.293993,
     "end_time": "2025-02-14T07:26:04.972321",
     "exception": false,
     "start_time": "2025-02-14T07:26:04.678328",
     "status": "completed"
    },
    "tags": []
   },
   "outputs": [
    {
     "data": {
      "image/png": "[encoded data removed]",
      "text/plain": [
       "<Figure size 1000x500 with 1 Axes>"
      ]
     },
     "metadata": {},
     "output_type": "display_data"
    }
   ],
   "source": [
    "lr_cb = get_lr_callback(Config.batch_size, mode=\"exp\", plot=True)"
   ]
  },
  {
   "cell_type": "markdown",
   "id": "07a446a4",
   "metadata": {
    "papermill": {
     "duration": 0.013808,
     "end_time": "2025-02-14T07:26:05.000485",
     "exception": false,
     "start_time": "2025-02-14T07:26:04.986677",
     "status": "completed"
    },
    "tags": []
   },
   "source": [
    "# Model Checkpoint"
   ]
  },
  {
   "cell_type": "code",
   "execution_count": 32,
   "id": "21114eac",
   "metadata": {
    "execution": {
     "iopub.execute_input": "2025-02-14T07:26:05.029433Z",
     "iopub.status.busy": "2025-02-14T07:26:05.028932Z",
     "iopub.status.idle": "2025-02-14T07:26:05.033231Z",
     "shell.execute_reply": "2025-02-14T07:26:05.032345Z"
    },
    "papermill": {
     "duration": 0.020303,
     "end_time": "2025-02-14T07:26:05.034625",
     "exception": false,
     "start_time": "2025-02-14T07:26:05.014322",
     "status": "completed"
    },
    "tags": []
   },
   "outputs": [],
   "source": [
    "ckpt_cb = keras.callbacks.ModelCheckpoint(\n",
    "    \"best_model.keras\",\n",
    "    monitor=\"val_auc\",\n",
    "    save_best_only=True,\n",
    "    save_weights_only=False,\n",
    "    mode=\"max\"\n",
    ")"
   ]
  },
  {
   "cell_type": "markdown",
   "id": "cb7972b4",
   "metadata": {
    "papermill": {
     "duration": 0.013601,
     "end_time": "2025-02-14T07:26:05.061793",
     "exception": false,
     "start_time": "2025-02-14T07:26:05.048192",
     "status": "completed"
    },
    "tags": []
   },
   "source": [
    "# Training"
   ]
  },
  {
   "cell_type": "code",
   "execution_count": 33,
   "id": "79150598",
   "metadata": {
    "execution": {
     "iopub.execute_input": "2025-02-14T07:26:05.090353Z",
     "iopub.status.busy": "2025-02-14T07:26:05.089974Z",
     "iopub.status.idle": "2025-02-14T07:27:40.708830Z",
     "shell.execute_reply": "2025-02-14T07:27:40.707678Z"
    },
    "papermill": {
     "duration": 95.635691,
     "end_time": "2025-02-14T07:27:40.711310",
     "exception": false,
     "start_time": "2025-02-14T07:26:05.075619",
     "status": "completed"
    },
    "tags": []
   },
   "outputs": [
    {
     "name": "stdout",
     "output_type": "stream",
     "text": [
      "Epoch 1/30\n",
      "\u001b[1m180/180\u001b[0m \u001b[32m━━━━━━━━━━━━━━━━━━━━\u001b[0m\u001b[37m\u001b[0m \u001b[1m9s\u001b[0m 22ms/step - auc: 0.5804 - loss: 1.4036 - val_auc: 0.6630 - val_loss: 0.6997 - learning_rate: 5.0000e-04\n",
      "Epoch 2/30\n",
      "\u001b[1m180/180\u001b[0m \u001b[32m━━━━━━━━━━━━━━━━━━━━\u001b[0m\u001b[37m\u001b[0m \u001b[1m3s\u001b[0m 15ms/step - auc: 0.6402 - loss: 0.6985 - val_auc: 0.6887 - val_loss: 0.6482 - learning_rate: 4.0080e-04\n",
      "Epoch 3/30\n",
      "\u001b[1m180/180\u001b[0m \u001b[32m━━━━━━━━━━━━━━━━━━━━\u001b[0m\u001b[37m\u001b[0m \u001b[1m3s\u001b[0m 17ms/step - auc: 0.6647 - loss: 0.6708 - val_auc: 0.7164 - val_loss: 0.6249 - learning_rate: 3.2144e-04\n",
      "Epoch 4/30\n",
      "\u001b[1m180/180\u001b[0m \u001b[32m━━━━━━━━━━━━━━━━━━━━\u001b[0m\u001b[37m\u001b[0m \u001b[1m3s\u001b[0m 15ms/step - auc: 0.6946 - loss: 0.6421 - val_auc: 0.7361 - val_loss: 0.6122 - learning_rate: 2.5795e-04\n",
      "Epoch 5/30\n",
      "\u001b[1m180/180\u001b[0m \u001b[32m━━━━━━━━━━━━━━━━━━━━\u001b[0m\u001b[37m\u001b[0m \u001b[1m3s\u001b[0m 16ms/step - auc: 0.7123 - loss: 0.6280 - val_auc: 0.7493 - val_loss: 0.5965 - learning_rate: 2.0716e-04\n",
      "Epoch 6/30\n",
      "\u001b[1m180/180\u001b[0m \u001b[32m━━━━━━━━━━━━━━━━━━━━\u001b[0m\u001b[37m\u001b[0m \u001b[1m3s\u001b[0m 15ms/step - auc: 0.7416 - loss: 0.6038 - val_auc: 0.7690 - val_loss: 0.5812 - learning_rate: 1.6653e-04\n",
      "Epoch 7/30\n",
      "\u001b[1m180/180\u001b[0m \u001b[32m━━━━━━━━━━━━━━━━━━━━\u001b[0m\u001b[37m\u001b[0m \u001b[1m3s\u001b[0m 15ms/step - auc: 0.7686 - loss: 0.5801 - val_auc: 0.7910 - val_loss: 0.5700 - learning_rate: 1.3402e-04\n",
      "Epoch 8/30\n",
      "\u001b[1m180/180\u001b[0m \u001b[32m━━━━━━━━━━━━━━━━━━━━\u001b[0m\u001b[37m\u001b[0m \u001b[1m3s\u001b[0m 15ms/step - auc: 0.7963 - loss: 0.5536 - val_auc: 0.8171 - val_loss: 0.5689 - learning_rate: 1.0802e-04\n",
      "Epoch 9/30\n",
      "\u001b[1m180/180\u001b[0m \u001b[32m━━━━━━━━━━━━━━━━━━━━\u001b[0m\u001b[37m\u001b[0m \u001b[1m3s\u001b[0m 15ms/step - auc: 0.8310 - loss: 0.5175 - val_auc: 0.8404 - val_loss: 0.5265 - learning_rate: 8.7215e-05\n",
      "Epoch 10/30\n",
      "\u001b[1m180/180\u001b[0m \u001b[32m━━━━━━━━━━━━━━━━━━━━\u001b[0m\u001b[37m\u001b[0m \u001b[1m3s\u001b[0m 15ms/step - auc: 0.8643 - loss: 0.4767 - val_auc: 0.8670 - val_loss: 0.4991 - learning_rate: 7.0572e-05\n",
      "Epoch 11/30\n",
      "\u001b[1m180/180\u001b[0m \u001b[32m━━━━━━━━━━━━━━━━━━━━\u001b[0m\u001b[37m\u001b[0m \u001b[1m3s\u001b[0m 17ms/step - auc: 0.8934 - loss: 0.4357 - val_auc: 0.8922 - val_loss: 0.4718 - learning_rate: 5.7258e-05\n",
      "Epoch 12/30\n",
      "\u001b[1m180/180\u001b[0m \u001b[32m━━━━━━━━━━━━━━━━━━━━\u001b[0m\u001b[37m\u001b[0m \u001b[1m3s\u001b[0m 15ms/step - auc: 0.9170 - loss: 0.3985 - val_auc: 0.9166 - val_loss: 0.3962 - learning_rate: 4.6606e-05\n",
      "Epoch 13/30\n",
      "\u001b[1m180/180\u001b[0m \u001b[32m━━━━━━━━━━━━━━━━━━━━\u001b[0m\u001b[37m\u001b[0m \u001b[1m3s\u001b[0m 15ms/step - auc: 0.9382 - loss: 0.3595 - val_auc: 0.9358 - val_loss: 0.3507 - learning_rate: 3.8085e-05\n",
      "Epoch 14/30\n",
      "\u001b[1m180/180\u001b[0m \u001b[32m━━━━━━━━━━━━━━━━━━━━\u001b[0m\u001b[37m\u001b[0m \u001b[1m3s\u001b[0m 15ms/step - auc: 0.9568 - loss: 0.3208 - val_auc: 0.9523 - val_loss: 0.3213 - learning_rate: 3.1268e-05\n",
      "Epoch 15/30\n",
      "\u001b[1m180/180\u001b[0m \u001b[32m━━━━━━━━━━━━━━━━━━━━\u001b[0m\u001b[37m\u001b[0m \u001b[1m3s\u001b[0m 16ms/step - auc: 0.9693 - loss: 0.2900 - val_auc: 0.9671 - val_loss: 0.2950 - learning_rate: 2.5814e-05\n",
      "Epoch 16/30\n",
      "\u001b[1m180/180\u001b[0m \u001b[32m━━━━━━━━━━━━━━━━━━━━\u001b[0m\u001b[37m\u001b[0m \u001b[1m3s\u001b[0m 15ms/step - auc: 0.9786 - loss: 0.2631 - val_auc: 0.9790 - val_loss: 0.2583 - learning_rate: 2.1451e-05\n",
      "Epoch 17/30\n",
      "\u001b[1m180/180\u001b[0m \u001b[32m━━━━━━━━━━━━━━━━━━━━\u001b[0m\u001b[37m\u001b[0m \u001b[1m3s\u001b[0m 15ms/step - auc: 0.9858 - loss: 0.2380 - val_auc: 0.9871 - val_loss: 0.2269 - learning_rate: 1.7961e-05\n",
      "Epoch 18/30\n",
      "\u001b[1m180/180\u001b[0m \u001b[32m━━━━━━━━━━━━━━━━━━━━\u001b[0m\u001b[37m\u001b[0m \u001b[1m3s\u001b[0m 15ms/step - auc: 0.9904 - loss: 0.2171 - val_auc: 0.9919 - val_loss: 0.2047 - learning_rate: 1.5169e-05\n",
      "Epoch 19/30\n",
      "\u001b[1m180/180\u001b[0m \u001b[32m━━━━━━━━━━━━━━━━━━━━\u001b[0m\u001b[37m\u001b[0m \u001b[1m3s\u001b[0m 15ms/step - auc: 0.9934 - loss: 0.2005 - val_auc: 0.9946 - val_loss: 0.1884 - learning_rate: 1.2935e-05\n",
      "Epoch 20/30\n",
      "\u001b[1m180/180\u001b[0m \u001b[32m━━━━━━━━━━━━━━━━━━━━\u001b[0m\u001b[37m\u001b[0m \u001b[1m3s\u001b[0m 15ms/step - auc: 0.9954 - loss: 0.1868 - val_auc: 0.9963 - val_loss: 0.1759 - learning_rate: 1.1148e-05\n",
      "Epoch 21/30\n",
      "\u001b[1m180/180\u001b[0m \u001b[32m━━━━━━━━━━━━━━━━━━━━\u001b[0m\u001b[37m\u001b[0m \u001b[1m3s\u001b[0m 16ms/step - auc: 0.9968 - loss: 0.1755 - val_auc: 0.9973 - val_loss: 0.1659 - learning_rate: 9.7185e-06\n",
      "Epoch 22/30\n",
      "\u001b[1m180/180\u001b[0m \u001b[32m━━━━━━━━━━━━━━━━━━━━\u001b[0m\u001b[37m\u001b[0m \u001b[1m3s\u001b[0m 15ms/step - auc: 0.9977 - loss: 0.1660 - val_auc: 0.9980 - val_loss: 0.1574 - learning_rate: 8.5748e-06\n",
      "Epoch 23/30\n",
      "\u001b[1m180/180\u001b[0m \u001b[32m━━━━━━━━━━━━━━━━━━━━\u001b[0m\u001b[37m\u001b[0m \u001b[1m3s\u001b[0m 16ms/step - auc: 0.9983 - loss: 0.1578 - val_auc: 0.9984 - val_loss: 0.1500 - learning_rate: 7.6598e-06\n",
      "Epoch 24/30\n",
      "\u001b[1m180/180\u001b[0m \u001b[32m━━━━━━━━━━━━━━━━━━━━\u001b[0m\u001b[37m\u001b[0m \u001b[1m3s\u001b[0m 15ms/step - auc: 0.9987 - loss: 0.1507 - val_auc: 0.9987 - val_loss: 0.1437 - learning_rate: 6.9279e-06\n",
      "Epoch 25/30\n",
      "\u001b[1m180/180\u001b[0m \u001b[32m━━━━━━━━━━━━━━━━━━━━\u001b[0m\u001b[37m\u001b[0m \u001b[1m3s\u001b[0m 16ms/step - auc: 0.9990 - loss: 0.1445 - val_auc: 0.9990 - val_loss: 0.1381 - learning_rate: 6.3423e-06\n",
      "Epoch 26/30\n",
      "\u001b[1m180/180\u001b[0m \u001b[32m━━━━━━━━━━━━━━━━━━━━\u001b[0m\u001b[37m\u001b[0m \u001b[1m3s\u001b[0m 15ms/step - auc: 0.9992 - loss: 0.1390 - val_auc: 0.9992 - val_loss: 0.1331 - learning_rate: 5.8738e-06\n",
      "Epoch 27/30\n",
      "\u001b[1m180/180\u001b[0m \u001b[32m━━━━━━━━━━━━━━━━━━━━\u001b[0m\u001b[37m\u001b[0m \u001b[1m3s\u001b[0m 16ms/step - auc: 0.9994 - loss: 0.1341 - val_auc: 0.9993 - val_loss: 0.1287 - learning_rate: 5.4991e-06\n",
      "Epoch 28/30\n",
      "\u001b[1m180/180\u001b[0m \u001b[32m━━━━━━━━━━━━━━━━━━━━\u001b[0m\u001b[37m\u001b[0m \u001b[1m3s\u001b[0m 17ms/step - auc: 0.9995 - loss: 0.1296 - val_auc: 0.9995 - val_loss: 0.1247 - learning_rate: 5.1993e-06\n",
      "Epoch 29/30\n",
      "\u001b[1m180/180\u001b[0m \u001b[32m━━━━━━━━━━━━━━━━━━━━\u001b[0m\u001b[37m\u001b[0m \u001b[1m3s\u001b[0m 16ms/step - auc: 0.9996 - loss: 0.1256 - val_auc: 0.9996 - val_loss: 0.1211 - learning_rate: 4.9594e-06\n",
      "Epoch 30/30\n",
      "\u001b[1m180/180\u001b[0m \u001b[32m━━━━━━━━━━━━━━━━━━━━\u001b[0m\u001b[37m\u001b[0m \u001b[1m3s\u001b[0m 16ms/step - auc: 0.9997 - loss: 0.1219 - val_auc: 0.9996 - val_loss: 0.1177 - learning_rate: 4.7675e-06\n"
     ]
    }
   ],
   "source": [
    "history = model.fit(\n",
    "    train_ds,\n",
    "    epochs=Config.epochs,\n",
    "    callbacks=[lr_cb, ckpt_cb],\n",
    "    validation_data=valid_ds,\n",
    "    verbose=Config.verbose,\n",
    "    class_weight=class_weights,\n",
    ")"
   ]
  },
  {
   "cell_type": "markdown",
   "id": "34b2b220",
   "metadata": {
    "papermill": {
     "duration": 0.04807,
     "end_time": "2025-02-14T07:27:40.809334",
     "exception": false,
     "start_time": "2025-02-14T07:27:40.761264",
     "status": "completed"
    },
    "tags": []
   },
   "source": [
    "# Visualize AUC with Epochs"
   ]
  },
  {
   "cell_type": "code",
   "execution_count": 34,
   "id": "e9fff5c6",
   "metadata": {
    "execution": {
     "iopub.execute_input": "2025-02-14T07:27:40.911268Z",
     "iopub.status.busy": "2025-02-14T07:27:40.910892Z",
     "iopub.status.idle": "2025-02-14T07:27:41.378756Z",
     "shell.execute_reply": "2025-02-14T07:27:41.377817Z"
    },
    "papermill": {
     "duration": 0.522246,
     "end_time": "2025-02-14T07:27:41.380695",
     "exception": false,
     "start_time": "2025-02-14T07:27:40.858449",
     "status": "completed"
    },
    "tags": []
   },
   "outputs": [
    {
     "data": {
      "image/png": "[encoded data removed]",
      "text/plain": [
       "<Figure size 1000x600 with 1 Axes>"
      ]
     },
     "metadata": {},
     "output_type": "display_data"
    }
   ],
   "source": [
    "auc = history.history['auc']\n",
    "val_auc = history.history['val_auc']\n",
    "epochs = range(1, len(auc) + 1)\n",
    "max_val_auc_epoch = np.argmax(val_auc)\n",
    "max_val_auc = val_auc[max_val_auc_epoch]\n",
    "\n",
    "plt.figure(figsize=(10,6))\n",
    "plt.plot(epochs, auc, 'o-', label=\"Training AUC\", markersize=5, color='tab:blue')\n",
    "plt.plot(epochs, val_auc, 's-', label='Validation AUC', markersize=5, color='tab:orange')\n",
    "\n",
    "plt.scatter(max_val_auc_epoch + 1, max_val_auc, color='red', s=100, label=f'Max Val AUC: {max_val_auc:.4f}')\n",
    "plt.annotate(f'Max Val AUC:{max_val_auc:.4f}',\n",
    "             xy=(max_val_auc_epoch + 1, max_val_auc), \n",
    "             xytext=(max_val_auc_epoch + 1 + 0.5, max_val_auc - 0.05),\n",
    "             arrowprops=dict(facecolor='black', arrowstyle='->'),\n",
    "             fontsize=12,color='tab:red')\n",
    "plt.title('AUC over Epochs', fontsize=14)\n",
    "plt.xlabel('Epoch', fontsize=12)\n",
    "plt.ylabel('AUC', fontsize=12)\n",
    "plt.legend(loc='lower right', fontsize=12)\n",
    "plt.grid(True)\n",
    "plt.xticks(epochs)\n",
    "plt.show()"
   ]
  },
  {
   "cell_type": "markdown",
   "id": "5f48ccde",
   "metadata": {
    "papermill": {
     "duration": 0.049723,
     "end_time": "2025-02-14T07:27:41.480914",
     "exception": false,
     "start_time": "2025-02-14T07:27:41.431191",
     "status": "completed"
    },
    "tags": []
   },
   "source": [
    "# Result"
   ]
  },
  {
   "cell_type": "code",
   "execution_count": 35,
   "id": "5adae331",
   "metadata": {
    "execution": {
     "iopub.execute_input": "2025-02-14T07:27:41.581653Z",
     "iopub.status.busy": "2025-02-14T07:27:41.581332Z",
     "iopub.status.idle": "2025-02-14T07:27:41.587438Z",
     "shell.execute_reply": "2025-02-14T07:27:41.586560Z"
    },
    "papermill": {
     "duration": 0.058054,
     "end_time": "2025-02-14T07:27:41.588823",
     "exception": false,
     "start_time": "2025-02-14T07:27:41.530769",
     "status": "completed"
    },
    "tags": []
   },
   "outputs": [
    {
     "name": "stdout",
     "output_type": "stream",
     "text": [
      "Best AUC: 0.99965\n",
      "Best Epoch: 30\n"
     ]
    }
   ],
   "source": [
    "best_score = max(history.history['val_auc'])\n",
    "best_epoch = np.argmax(history.history['val_auc']) + 1\n",
    "print(f\"Best AUC: {best_score:.5f}\")\n",
    "print(f\"Best Epoch: {best_epoch}\")"
   ]
  },
  {
   "cell_type": "markdown",
   "id": "edfd65a8",
   "metadata": {
    "papermill": {
     "duration": 0.050921,
     "end_time": "2025-02-14T07:27:41.689799",
     "exception": false,
     "start_time": "2025-02-14T07:27:41.638878",
     "status": "completed"
    },
    "tags": []
   },
   "source": [
    "# Prediction"
   ]
  },
  {
   "cell_type": "markdown",
   "id": "c7b3cf99",
   "metadata": {
    "papermill": {
     "duration": 0.057714,
     "end_time": "2025-02-14T07:27:41.797377",
     "exception": false,
     "start_time": "2025-02-14T07:27:41.739663",
     "status": "completed"
    },
    "tags": []
   },
   "source": [
    "Load Best Model"
   ]
  },
  {
   "cell_type": "code",
   "execution_count": 36,
   "id": "4c936e64",
   "metadata": {
    "execution": {
     "iopub.execute_input": "2025-02-14T07:27:41.900231Z",
     "iopub.status.busy": "2025-02-14T07:27:41.899877Z",
     "iopub.status.idle": "2025-02-14T07:27:45.469095Z",
     "shell.execute_reply": "2025-02-14T07:27:45.468010Z"
    },
    "papermill": {
     "duration": 3.622781,
     "end_time": "2025-02-14T07:27:45.470957",
     "exception": false,
     "start_time": "2025-02-14T07:27:41.848176",
     "status": "completed"
    },
    "tags": []
   },
   "outputs": [],
   "source": [
    "model.load_weights(\"best_model.keras\")"
   ]
  },
  {
   "cell_type": "markdown",
   "id": "ddd86018",
   "metadata": {
    "papermill": {
     "duration": 0.050848,
     "end_time": "2025-02-14T07:27:45.575549",
     "exception": false,
     "start_time": "2025-02-14T07:27:45.524701",
     "status": "completed"
    },
    "tags": []
   },
   "source": [
    "Build Testing Dataset"
   ]
  },
  {
   "cell_type": "code",
   "execution_count": 37,
   "id": "03e3487d",
   "metadata": {
    "execution": {
     "iopub.execute_input": "2025-02-14T07:27:45.674924Z",
     "iopub.status.busy": "2025-02-14T07:27:45.674404Z",
     "iopub.status.idle": "2025-02-14T07:27:46.146934Z",
     "shell.execute_reply": "2025-02-14T07:27:46.146080Z"
    },
    "papermill": {
     "duration": 0.524242,
     "end_time": "2025-02-14T07:27:46.148581",
     "exception": false,
     "start_time": "2025-02-14T07:27:45.624339",
     "status": "completed"
    },
    "tags": []
   },
   "outputs": [],
   "source": [
    "test_FEATURES = dict(test_df[FEATURES])\n",
    "test_ID = test_df.ID.values\n",
    "test_ds = build_dataset(test_ID, test_FEATURES, batch_size=Config.batch_size,shuffle=False)\n",
    "test_ds = test_ds.map(\n",
    "    lambda x: {\"FEATURES\":feature_space(x[\"FEATURES\"])}, num_parallel_calls=tf.data.AUTOTUNE)"
   ]
  },
  {
   "cell_type": "markdown",
   "id": "1dc5bbfa",
   "metadata": {
    "papermill": {
     "duration": 0.049739,
     "end_time": "2025-02-14T07:27:46.248910",
     "exception": false,
     "start_time": "2025-02-14T07:27:46.199171",
     "status": "completed"
    },
    "tags": []
   },
   "source": [
    "Inference"
   ]
  },
  {
   "cell_type": "code",
   "execution_count": 38,
   "id": "06f03530",
   "metadata": {
    "execution": {
     "iopub.execute_input": "2025-02-14T07:27:46.348168Z",
     "iopub.status.busy": "2025-02-14T07:27:46.347813Z",
     "iopub.status.idle": "2025-02-14T07:27:47.546173Z",
     "shell.execute_reply": "2025-02-14T07:27:47.545405Z"
    },
    "papermill": {
     "duration": 1.249292,
     "end_time": "2025-02-14T07:27:47.547731",
     "exception": false,
     "start_time": "2025-02-14T07:27:46.298439",
     "status": "completed"
    },
    "tags": []
   },
   "outputs": [
    {
     "name": "stdout",
     "output_type": "stream",
     "text": [
      "\u001b[1m46/46\u001b[0m \u001b[32m━━━━━━━━━━━━━━━━━━━━\u001b[0m\u001b[37m\u001b[0m \u001b[1m1s\u001b[0m 14ms/step\n"
     ]
    }
   ],
   "source": [
    "preds = model.predict(test_ds).squeeze()"
   ]
  },
  {
   "cell_type": "markdown",
   "id": "0bbf28a5",
   "metadata": {
    "papermill": {
     "duration": 0.050283,
     "end_time": "2025-02-14T07:27:47.648292",
     "exception": false,
     "start_time": "2025-02-14T07:27:47.598009",
     "status": "completed"
    },
    "tags": []
   },
   "source": [
    "# Submission"
   ]
  },
  {
   "cell_type": "code",
   "execution_count": 39,
   "id": "b3674765",
   "metadata": {
    "execution": {
     "iopub.execute_input": "2025-02-14T07:27:47.750403Z",
     "iopub.status.busy": "2025-02-14T07:27:47.750075Z",
     "iopub.status.idle": "2025-02-14T07:27:47.756685Z",
     "shell.execute_reply": "2025-02-14T07:27:47.755903Z"
    },
    "papermill": {
     "duration": 0.058696,
     "end_time": "2025-02-14T07:27:47.758102",
     "exception": false,
     "start_time": "2025-02-14T07:27:47.699406",
     "status": "completed"
    },
    "tags": []
   },
   "outputs": [],
   "source": [
    "pred_df = test_df[[\"ID\"]].copy()\n",
    "pred_df[\"prediction\"] = preds.tolist()"
   ]
  },
  {
   "cell_type": "code",
   "execution_count": 40,
   "id": "ecc96a55",
   "metadata": {
    "execution": {
     "iopub.execute_input": "2025-02-14T07:27:47.862844Z",
     "iopub.status.busy": "2025-02-14T07:27:47.862478Z",
     "iopub.status.idle": "2025-02-14T07:27:47.884338Z",
     "shell.execute_reply": "2025-02-14T07:27:47.883566Z"
    },
    "papermill": {
     "duration": 0.073928,
     "end_time": "2025-02-14T07:27:47.885707",
     "exception": false,
     "start_time": "2025-02-14T07:27:47.811779",
     "status": "completed"
    },
    "tags": []
   },
   "outputs": [
    {
     "data": {
      "text/html": [
       "<div>\n",
       "<style scoped>\n",
       "    .dataframe tbody tr th:only-of-type {\n",
       "        vertical-align: middle;\n",
       "    }\n",
       "\n",
       "    .dataframe tbody tr th {\n",
       "        vertical-align: top;\n",
       "    }\n",
       "\n",
       "    .dataframe thead th {\n",
       "        text-align: right;\n",
       "    }\n",
       "</style>\n",
       "<table border=\"1\" class=\"dataframe\">\n",
       "  <thead>\n",
       "    <tr style=\"text-align: right;\">\n",
       "      <th></th>\n",
       "      <th>ID</th>\n",
       "      <th>prediction</th>\n",
       "    </tr>\n",
       "  </thead>\n",
       "  <tbody>\n",
       "    <tr>\n",
       "      <th>0</th>\n",
       "      <td>28800</td>\n",
       "      <td>0.623429</td>\n",
       "    </tr>\n",
       "    <tr>\n",
       "      <th>1</th>\n",
       "      <td>28801</td>\n",
       "      <td>0.922120</td>\n",
       "    </tr>\n",
       "    <tr>\n",
       "      <th>2</th>\n",
       "      <td>28802</td>\n",
       "      <td>0.027231</td>\n",
       "    </tr>\n",
       "  </tbody>\n",
       "</table>\n",
       "</div>"
      ],
      "text/plain": [
       "      ID  prediction\n",
       "0  28800    0.623429\n",
       "1  28801    0.922120\n",
       "2  28802    0.027231"
      ]
     },
     "execution_count": 40,
     "metadata": {},
     "output_type": "execute_result"
    }
   ],
   "source": [
    "sub_df = pd.read_csv(f'{PATH}/sample_submission.csv')\n",
    "sub_df = sub_df[[\"ID\"]].copy()\n",
    "\n",
    "sub_df = sub_df.merge(pred_df, on =\"ID\", how=\"left\")\n",
    "sub_df.to_csv(\"submission.csv\", index=False)\n",
    "sub_df.head()"
   ]
  }
 ],
 "metadata": {
  "kaggle": {
   "accelerator": "gpu",
   "dataSources": [
    {
     "databundleVersionId": 10381525,
     "sourceId": 70942,
     "sourceType": "competition"
    },
    {
     "modelId": 2797,
     "modelInstanceId": 4605,
     "sourceId": 6122,
     "sourceType": "modelInstanceVersion"
    }
   ],
   "isGpuEnabled": true,
   "isInternetEnabled": false,
   "language": "python",
   "sourceType": "notebook"
  },
  "kernelspec": {
   "display_name": "Python 3",
   "language": "python",
   "name": "python3"
  },
  "language_info": {
   "codemirror_mode": {
    "name": "ipython",
    "version": 3
   },
   "file_extension": ".py",
   "mimetype": "text/x-python",
   "name": "python",
   "nbconvert_exporter": "python",
   "pygments_lexer": "ipython3",
   "version": "3.10.12"
  },
  "papermill": {
   "default_parameters": {},
   "duration": 191.860684,
   "end_time": "2025-02-14T07:27:50.934394",
   "environment_variables": {},
   "exception": null,
   "input_path": "__notebook__.ipynb",
   "output_path": "__notebook__.ipynb",
   "parameters": {},
   "start_time": "2025-02-14T07:24:39.073710",
   "version": "2.6.0"
  }
 },
 "nbformat": 4,
 "nbformat_minor": 5
}
